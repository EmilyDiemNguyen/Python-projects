{
 "cells": [
  {
   "cell_type": "markdown",
   "metadata": {
    "id": "pOyqYHTk_Q57"
   },
   "source": [
    "## Importing basic libraries"
   ]
  },
  {
   "cell_type": "code",
   "execution_count": 12,
   "metadata": {
    "executionInfo": {
     "elapsed": 1297,
     "status": "ok",
     "timestamp": 1636120317841,
     "user": {
      "displayName": "Sara Jodayree",
      "photoUrl": "https://lh3.googleusercontent.com/a/default-user=s64",
      "userId": "00012496315233917904"
     },
     "user_tz": 240
    },
    "id": "T_YHJjnD_Tja"
   },
   "outputs": [],
   "source": [
    "import numpy as np\n",
    "import matplotlib.pyplot as plt\n",
    "import pandas as pd"
   ]
  },
  {
   "cell_type": "markdown",
   "metadata": {
    "id": "vgC61-ah_WIz"
   },
   "source": [
    "## Importing the datasets"
   ]
  },
  {
   "cell_type": "code",
   "execution_count": 13,
   "metadata": {},
   "outputs": [],
   "source": [
    "datasets = {}\n",
    "datasets['data'] = pd.read_csv('Data.csv')\n",
    "datasets['position salaries'] = pd.read_csv('Position_Salaries.csv')"
   ]
  },
  {
   "cell_type": "code",
   "execution_count": 14,
   "metadata": {
    "executionInfo": {
     "elapsed": 844,
     "status": "ok",
     "timestamp": 1636120324053,
     "user": {
      "displayName": "Sara Jodayree",
      "photoUrl": "https://lh3.googleusercontent.com/a/default-user=s64",
      "userId": "00012496315233917904"
     },
     "user_tz": 240
    },
    "id": "UrxyEKGn_ez7"
   },
   "outputs": [],
   "source": [
    "dataset = datasets['data']\n",
    "X = dataset.iloc[:, :-1].values\n",
    "y = dataset.iloc[:, -1].values"
   ]
  },
  {
   "cell_type": "markdown",
   "metadata": {
    "id": "WemVnqgeA70k"
   },
   "source": [
    "## Splitting the dataset into the Training set and Test set"
   ]
  },
  {
   "cell_type": "code",
   "execution_count": 15,
   "metadata": {
    "executionInfo": {
     "elapsed": 924,
     "status": "ok",
     "timestamp": 1636120327302,
     "user": {
      "displayName": "Sara Jodayree",
      "photoUrl": "https://lh3.googleusercontent.com/a/default-user=s64",
      "userId": "00012496315233917904"
     },
     "user_tz": 240
    },
    "id": "Kb_v_ae-A-20"
   },
   "outputs": [],
   "source": [
    "from sklearn.model_selection import train_test_split\n",
    "X_train, X_test, y_train, y_test = train_test_split(X, y, test_size = 0.2, random_state = 0)"
   ]
  },
  {
   "cell_type": "markdown",
   "metadata": {},
   "source": [
    "# Linear regression"
   ]
  },
  {
   "cell_type": "markdown",
   "metadata": {
    "id": "k-McZVsQBINc"
   },
   "source": [
    "## Training the Linear Regression model on the Training set"
   ]
  },
  {
   "cell_type": "code",
   "execution_count": 16,
   "metadata": {
    "colab": {
     "base_uri": "https://localhost:8080/"
    },
    "executionInfo": {
     "elapsed": 209,
     "status": "ok",
     "timestamp": 1636120329191,
     "user": {
      "displayName": "Sara Jodayree",
      "photoUrl": "https://lh3.googleusercontent.com/a/default-user=s64",
      "userId": "00012496315233917904"
     },
     "user_tz": 240
    },
    "id": "ywPjx0L1BMiD",
    "outputId": "1ca8caef-ac6d-4337-faa2-bc594991879d"
   },
   "outputs": [
    {
     "data": {
      "text/plain": [
       "LinearRegression()"
      ]
     },
     "execution_count": 16,
     "metadata": {},
     "output_type": "execute_result"
    }
   ],
   "source": [
    "from sklearn.linear_model import LinearRegression\n",
    "l_regressor = LinearRegression()\n",
    "l_regressor.fit(X_train, y_train)"
   ]
  },
  {
   "cell_type": "markdown",
   "metadata": {
    "id": "xNkXL1YQBiBT"
   },
   "source": [
    "## Predicting the Test set results"
   ]
  },
  {
   "cell_type": "code",
   "execution_count": 17,
   "metadata": {
    "colab": {
     "base_uri": "https://localhost:8080/"
    },
    "executionInfo": {
     "elapsed": 11,
     "status": "ok",
     "timestamp": 1636120330929,
     "user": {
      "displayName": "Sara Jodayree",
      "photoUrl": "https://lh3.googleusercontent.com/a/default-user=s64",
      "userId": "00012496315233917904"
     },
     "user_tz": 240
    },
    "id": "TQKmwvtdBkyb",
    "outputId": "ff707890-5a86-409f-819f-ae6ff5c47efc"
   },
   "outputs": [
    {
     "name": "stdout",
     "output_type": "stream",
     "text": [
      "[[431.43 431.23]\n",
      " [458.56 460.01]\n",
      " [462.75 461.14]\n",
      " ...\n",
      " [469.52 473.26]\n",
      " [442.42 438.  ]\n",
      " [461.88 463.28]]\n"
     ]
    }
   ],
   "source": [
    "y_pred_l = l_regressor.predict(X_test)\n",
    "np.set_printoptions(precision=2)\n",
    "print(np.concatenate((y_pred_l.reshape(len(y_pred_l),1), y_test.reshape(len(y_test),1)),1))"
   ]
  },
  {
   "cell_type": "markdown",
   "id": "e024efcd",
   "metadata": {},
   "source": [
    "## Evaluating the Model Performance & recording it"
   ]
  },
  {
   "cell_type": "code",
   "execution_count": 18,
   "id": "772553fb",
   "metadata": {},
   "outputs": [],
   "source": [
    "from sklearn.metrics import r2_score, mean_squared_error, mean_absolute_error\n",
    "\n",
    "model_performances = pd.DataFrame(columns = ['Model', 'R2', 'MSE', 'MAE'])\n",
    "model_performances.loc[0] = ['LR', r2_score(y_test, y_pred_l), \n",
    "                            mean_squared_error(y_test, y_pred_l),\n",
    "                            mean_absolute_error(y_test, y_pred_l)]"
   ]
  },
  {
   "cell_type": "markdown",
   "metadata": {},
   "source": [
    "# Polynomial/Multi - Linear Regression"
   ]
  },
  {
   "cell_type": "code",
   "execution_count": 19,
   "metadata": {},
   "outputs": [],
   "source": [
    "from sklearn.preprocessing import PolynomialFeatures\n",
    "\n",
    "poly_reg = PolynomialFeatures(degree=2)\n",
    "X_poly = poly_reg.fit_transform(X)\n",
    "polynomial_regressor = LinearRegression()"
   ]
  },
  {
   "cell_type": "code",
   "execution_count": 20,
   "metadata": {},
   "outputs": [
    {
     "data": {
      "text/plain": [
       "LinearRegression()"
      ]
     },
     "execution_count": 20,
     "metadata": {},
     "output_type": "execute_result"
    }
   ],
   "source": [
    "polynomial_regressor.fit(X_poly, y)"
   ]
  },
  {
   "cell_type": "code",
   "execution_count": 21,
   "id": "3e4fd0a9",
   "metadata": {},
   "outputs": [
    {
     "name": "stdout",
     "output_type": "stream",
     "text": [
      "[[432.81 431.23]\n",
      " [457.35 460.01]\n",
      " [461.92 461.14]\n",
      " ...\n",
      " [468.8  473.26]\n",
      " [441.24 438.  ]\n",
      " [461.14 463.28]]\n"
     ]
    }
   ],
   "source": [
    "y_pred_poly = polynomial_regressor.predict(poly_reg.transform(X_test))\n",
    "np.set_printoptions(precision=2)\n",
    "print(np.concatenate((y_pred_poly.reshape(len(y_pred_poly),1), y_test.reshape(len(y_test),1)),1))"
   ]
  },
  {
   "cell_type": "code",
   "execution_count": 22,
   "id": "fe13d9c6",
   "metadata": {},
   "outputs": [],
   "source": [
    "model_performances.loc[1] = ['LR-Poly', r2_score(y_test, y_pred_poly), \n",
    "                            mean_squared_error(y_test, y_pred_poly),\n",
    "                            mean_absolute_error(y_test, y_pred_poly)]"
   ]
  },
  {
   "cell_type": "markdown",
   "metadata": {
    "id": "r3cas2_1T98w"
   },
   "source": [
    "# Decision Tree Regression"
   ]
  },
  {
   "cell_type": "markdown",
   "metadata": {
    "id": "g16qFkFQVC35"
   },
   "source": [
    "## Training the Decision Tree Regression model on the Training set"
   ]
  },
  {
   "cell_type": "code",
   "execution_count": 28,
   "metadata": {
    "id": "SLDKyv1SVUqS"
   },
   "outputs": [
    {
     "data": {
      "text/plain": [
       "DecisionTreeRegressor(random_state=0)"
      ]
     },
     "execution_count": 28,
     "metadata": {},
     "output_type": "execute_result"
    }
   ],
   "source": [
    "from sklearn.tree import DecisionTreeRegressor\n",
    "\n",
    "dt_regressor = DecisionTreeRegressor(random_state = 0)\n",
    "dt_regressor.fit(X_train, y_train)"
   ]
  },
  {
   "cell_type": "markdown",
   "metadata": {
    "id": "Nao9cdO6IgNb"
   },
   "source": [
    "## Predicting the Test set results"
   ]
  },
  {
   "cell_type": "code",
   "execution_count": 29,
   "metadata": {
    "id": "EebHA3EOIkQK"
   },
   "outputs": [
    {
     "name": "stdout",
     "output_type": "stream",
     "text": [
      "[[431.28 431.23]\n",
      " [459.59 460.01]\n",
      " [460.06 461.14]\n",
      " ...\n",
      " [471.46 473.26]\n",
      " [437.76 438.  ]\n",
      " [462.74 463.28]]\n"
     ]
    }
   ],
   "source": [
    "y_pred_dt = dt_regressor.predict(X_test)\n",
    "np.set_printoptions(precision=2)\n",
    "print(np.concatenate((y_pred_dt.reshape(len(y_pred_dt),1), y_test.reshape(len(y_test),1)),1))"
   ]
  },
  {
   "cell_type": "markdown",
   "metadata": {
    "id": "V4nELFnnIod1"
   },
   "source": [
    "## Evaluating the Model Performance"
   ]
  },
  {
   "cell_type": "code",
   "execution_count": 30,
   "metadata": {
    "id": "_G2QS1UoIsTZ"
   },
   "outputs": [],
   "source": [
    "model_performances.loc[2] = ['DT', r2_score(y_test, y_pred_dt), \n",
    "                            mean_squared_error(y_test, y_pred_dt),\n",
    "                            mean_absolute_error(y_test, y_pred_dt)]"
   ]
  },
  {
   "cell_type": "markdown",
   "id": "3102083b",
   "metadata": {},
   "source": [
    "# Random Forest Regression"
   ]
  },
  {
   "cell_type": "code",
   "execution_count": 32,
   "id": "87e550a7",
   "metadata": {},
   "outputs": [
    {
     "data": {
      "text/plain": [
       "RandomForestRegressor(n_estimators=10, random_state=0)"
      ]
     },
     "execution_count": 32,
     "metadata": {},
     "output_type": "execute_result"
    }
   ],
   "source": [
    "from sklearn.ensemble import RandomForestRegressor\n",
    "random_forest_regressor = RandomForestRegressor(n_estimators = 10, random_state = 0)\n",
    "random_forest_regressor.fit(X_train, y_train)"
   ]
  },
  {
   "cell_type": "code",
   "execution_count": 33,
   "id": "9823185e",
   "metadata": {},
   "outputs": [
    {
     "name": "stdout",
     "output_type": "stream",
     "text": [
      "[[434.05 431.23]\n",
      " [458.79 460.01]\n",
      " [463.02 461.14]\n",
      " ...\n",
      " [469.48 473.26]\n",
      " [439.57 438.  ]\n",
      " [460.38 463.28]]\n"
     ]
    }
   ],
   "source": [
    "y_pred_rf = random_forest_regressor.predict(X_test)\n",
    "np.set_printoptions(precision=2)\n",
    "print(np.concatenate((y_pred_rf.reshape(len(y_pred_rf),1), y_test.reshape(len(y_test),1)),1))"
   ]
  },
  {
   "cell_type": "code",
   "execution_count": 34,
   "id": "00b9dce7",
   "metadata": {},
   "outputs": [],
   "source": [
    "model_performances.loc[3] = ['RF', r2_score(y_test, y_pred_rf), \n",
    "                            mean_squared_error(y_test, y_pred_rf),\n",
    "                            mean_absolute_error(y_test, y_pred_rf)]"
   ]
  },
  {
   "cell_type": "markdown",
   "id": "bc895c73",
   "metadata": {},
   "source": [
    "# Support Vector Regression(SVR)"
   ]
  },
  {
   "cell_type": "markdown",
   "id": "59dcc017",
   "metadata": {},
   "source": [
    "## Feature Scaling"
   ]
  },
  {
   "cell_type": "code",
   "execution_count": 35,
   "id": "9e54ba66",
   "metadata": {},
   "outputs": [],
   "source": [
    "from sklearn.preprocessing import StandardScaler\n",
    "sc_X = StandardScaler()\n",
    "sc_y = StandardScaler()\n",
    "X_train_scaled = sc_X.fit_transform(X_train)\n",
    "y_train_scaled = sc_y.fit_transform(y_train.reshape(len(y_train),1))"
   ]
  },
  {
   "cell_type": "markdown",
   "id": "812214de",
   "metadata": {
    "colab_type": "text",
    "id": "eiU6D2QFRjxY"
   },
   "source": [
    "## Training the SVR model on the Training set"
   ]
  },
  {
   "cell_type": "code",
   "execution_count": 36,
   "id": "a9ea37af",
   "metadata": {},
   "outputs": [
    {
     "name": "stderr",
     "output_type": "stream",
     "text": [
      "C:\\Users\\akshu\\.conda\\envs\\ml\\lib\\site-packages\\sklearn\\utils\\validation.py:985: DataConversionWarning: A column-vector y was passed when a 1d array was expected. Please change the shape of y to (n_samples, ), for example using ravel().\n",
      "  y = column_or_1d(y, warn=True)\n"
     ]
    },
    {
     "data": {
      "text/plain": [
       "SVR()"
      ]
     },
     "execution_count": 36,
     "metadata": {},
     "output_type": "execute_result"
    }
   ],
   "source": [
    "from sklearn.svm import SVR\n",
    "svm_regressor = SVR(kernel = 'rbf')\n",
    "svm_regressor.fit(X_train_scaled, y_train_scaled)"
   ]
  },
  {
   "cell_type": "markdown",
   "id": "9156c3ea",
   "metadata": {},
   "source": [
    "## Predicting the Test set results"
   ]
  },
  {
   "cell_type": "code",
   "execution_count": 37,
   "id": "6c7de604",
   "metadata": {},
   "outputs": [
    {
     "name": "stdout",
     "output_type": "stream",
     "text": [
      "[[434.05 431.23]\n",
      " [457.94 460.01]\n",
      " [461.03 461.14]\n",
      " ...\n",
      " [470.6  473.26]\n",
      " [439.42 438.  ]\n",
      " [460.92 463.28]]\n"
     ]
    }
   ],
   "source": [
    "y_pred_svr_rbf = sc_y.inverse_transform(svm_regressor.predict(sc_X.transform(X_test)).reshape(-1, 1))\n",
    "np.set_printoptions(precision=2)\n",
    "print(np.concatenate((y_pred_svr_rbf.reshape(len(y_pred_svr_rbf),1), y_test.reshape(len(y_test),1)),1))"
   ]
  },
  {
   "cell_type": "markdown",
   "id": "dcabc9e0",
   "metadata": {},
   "source": [
    "## Evaluating the Model Performance & recording it"
   ]
  },
  {
   "cell_type": "code",
   "execution_count": 38,
   "id": "5857bb9b",
   "metadata": {},
   "outputs": [],
   "source": [
    "model_performances.loc[4] = ['SVR - RBF', r2_score(y_test, y_pred_svr_rbf), \n",
    "                            mean_squared_error(y_test, y_pred_svr_rbf),\n",
    "                            mean_absolute_error(y_test, y_pred_svr_rbf)]"
   ]
  },
  {
   "cell_type": "markdown",
   "id": "bc895c73",
   "metadata": {},
   "source": [
    "# Support Vector Regression(SVR) - Linear"
   ]
  },
  {
   "cell_type": "markdown",
   "id": "812214de",
   "metadata": {
    "colab_type": "text",
    "id": "eiU6D2QFRjxY"
   },
   "source": [
    "## Training the SVR model on the Training set"
   ]
  },
  {
   "cell_type": "code",
   "execution_count": 39,
   "id": "a9ea37af",
   "metadata": {},
   "outputs": [
    {
     "name": "stderr",
     "output_type": "stream",
     "text": [
      "C:\\Users\\akshu\\.conda\\envs\\ml\\lib\\site-packages\\sklearn\\utils\\validation.py:985: DataConversionWarning: A column-vector y was passed when a 1d array was expected. Please change the shape of y to (n_samples, ), for example using ravel().\n",
      "  y = column_or_1d(y, warn=True)\n"
     ]
    },
    {
     "data": {
      "text/plain": [
       "SVR(kernel='linear')"
      ]
     },
     "execution_count": 39,
     "metadata": {},
     "output_type": "execute_result"
    }
   ],
   "source": [
    "svm_linear_regressor = SVR(kernel = 'linear')\n",
    "svm_linear_regressor.fit(X_train_scaled, y_train_scaled)"
   ]
  },
  {
   "cell_type": "markdown",
   "id": "9156c3ea",
   "metadata": {},
   "source": [
    "## Predicting the Test set results"
   ]
  },
  {
   "cell_type": "code",
   "execution_count": 40,
   "id": "6c7de604",
   "metadata": {},
   "outputs": [
    {
     "name": "stdout",
     "output_type": "stream",
     "text": [
      "[[431.04 431.23]\n",
      " [458.38 460.01]\n",
      " [462.73 461.14]\n",
      " ...\n",
      " [469.55 473.26]\n",
      " [441.98 438.  ]\n",
      " [461.88 463.28]]\n"
     ]
    }
   ],
   "source": [
    "y_pred_svr = sc_y.inverse_transform(svm_linear_regressor.predict(sc_X.transform(X_test)).reshape(-1, 1))\n",
    "np.set_printoptions(precision=2)\n",
    "print(np.concatenate((y_pred_svr.reshape(len(y_pred_svr),1), y_test.reshape(len(y_test),1)),1))"
   ]
  },
  {
   "cell_type": "markdown",
   "id": "dcabc9e0",
   "metadata": {},
   "source": [
    "## Evaluating the Model Performance & recording it"
   ]
  },
  {
   "cell_type": "code",
   "execution_count": 41,
   "id": "5857bb9b",
   "metadata": {},
   "outputs": [],
   "source": [
    "model_performances.loc[5] = ['SVR', r2_score(y_test, y_pred_svr), \n",
    "                            mean_squared_error(y_test, y_pred_svr),\n",
    "                            mean_absolute_error(y_test, y_pred_svr)]"
   ]
  },
  {
   "cell_type": "markdown",
   "id": "e020909c",
   "metadata": {
    "colab_type": "text",
    "id": "6OMC_P0diaoD"
   },
   "source": [
    "# Model Evaluations"
   ]
  },
  {
   "cell_type": "code",
   "execution_count": 42,
   "id": "5b27e212",
   "metadata": {},
   "outputs": [
    {
     "data": {
      "text/html": [
       "<div>\n",
       "<style scoped>\n",
       "    .dataframe tbody tr th:only-of-type {\n",
       "        vertical-align: middle;\n",
       "    }\n",
       "\n",
       "    .dataframe tbody tr th {\n",
       "        vertical-align: top;\n",
       "    }\n",
       "\n",
       "    .dataframe thead th {\n",
       "        text-align: right;\n",
       "    }\n",
       "</style>\n",
       "<table border=\"1\" class=\"dataframe\">\n",
       "  <thead>\n",
       "    <tr style=\"text-align: right;\">\n",
       "      <th></th>\n",
       "      <th>Model</th>\n",
       "      <th>R2</th>\n",
       "      <th>MSE</th>\n",
       "      <th>MAE</th>\n",
       "    </tr>\n",
       "  </thead>\n",
       "  <tbody>\n",
       "    <tr>\n",
       "      <th>0</th>\n",
       "      <td>LR</td>\n",
       "      <td>0.932532</td>\n",
       "      <td>19.733699</td>\n",
       "      <td>3.566565</td>\n",
       "    </tr>\n",
       "    <tr>\n",
       "      <th>1</th>\n",
       "      <td>LR-Poly</td>\n",
       "      <td>0.942295</td>\n",
       "      <td>16.878129</td>\n",
       "      <td>3.283019</td>\n",
       "    </tr>\n",
       "    <tr>\n",
       "      <th>2</th>\n",
       "      <td>DT</td>\n",
       "      <td>0.922906</td>\n",
       "      <td>22.549094</td>\n",
       "      <td>3.103924</td>\n",
       "    </tr>\n",
       "    <tr>\n",
       "      <th>3</th>\n",
       "      <td>RF</td>\n",
       "      <td>0.961591</td>\n",
       "      <td>11.234214</td>\n",
       "      <td>2.452367</td>\n",
       "    </tr>\n",
       "    <tr>\n",
       "      <th>4</th>\n",
       "      <td>SVR - RBF</td>\n",
       "      <td>0.948078</td>\n",
       "      <td>15.186435</td>\n",
       "      <td>2.995178</td>\n",
       "    </tr>\n",
       "    <tr>\n",
       "      <th>5</th>\n",
       "      <td>SVR</td>\n",
       "      <td>0.932197</td>\n",
       "      <td>19.831605</td>\n",
       "      <td>3.556684</td>\n",
       "    </tr>\n",
       "  </tbody>\n",
       "</table>\n",
       "</div>"
      ],
      "text/plain": [
       "       Model        R2        MSE       MAE\n",
       "0         LR  0.932532  19.733699  3.566565\n",
       "1    LR-Poly  0.942295  16.878129  3.283019\n",
       "2         DT  0.922906  22.549094  3.103924\n",
       "3         RF  0.961591  11.234214  2.452367\n",
       "4  SVR - RBF  0.948078  15.186435  2.995178\n",
       "5        SVR  0.932197  19.831605  3.556684"
      ]
     },
     "execution_count": 42,
     "metadata": {},
     "output_type": "execute_result"
    }
   ],
   "source": [
    "model_performances"
   ]
  },
  {
   "cell_type": "code",
   "execution_count": 47,
   "metadata": {},
   "outputs": [
    {
     "data": {
      "image/png": "[encoded data removed]",
      "text/plain": [
       "<Figure size 720x360 with 1 Axes>"
      ]
     },
     "metadata": {
      "needs_background": "light"
     },
     "output_type": "display_data"
    }
   ],
   "source": [
    "plt.figure(figsize = (10, 5))\n",
    "plt.bar(model_performances['Model'], model_performances['R2'])\n",
    "plt.title('R2 Score')\n",
    "plt.xticks(rotation = 'vertical')\n",
    "plt.show()"
   ]
  },
  {
   "cell_type": "code",
   "execution_count": 44,
   "id": "4e23ad37",
   "metadata": {},
   "outputs": [
    {
     "data": {
      "image/png": "[encoded data removed]",
      "text/plain": [
       "<Figure size 720x360 with 1 Axes>"
      ]
     },
     "metadata": {
      "needs_background": "light"
     },
     "output_type": "display_data"
    }
   ],
   "source": [
    "plt.figure(figsize = (10, 5))\n",
    "plt.bar(model_performances['Model'], model_performances['MAE'])\n",
    "plt.title('Mean Absolute Error')\n",
    "plt.xticks(rotation = 'vertical')\n",
    "plt.show()"
   ]
  },
  {
   "cell_type": "code",
   "execution_count": 45,
   "id": "7756dea6",
   "metadata": {},
   "outputs": [
    {
     "data": {
      "image/png": "[encoded data removed]",
      "text/plain": [
       "<Figure size 720x360 with 1 Axes>"
      ]
     },
     "metadata": {
      "needs_background": "light"
     },
     "output_type": "display_data"
    }
   ],
   "source": [
    "plt.figure(figsize = (10, 5))\n",
    "plt.bar(model_performances['Model'], model_performances['MSE'])\n",
    "plt.title('Mean Squared Error')\n",
    "plt.xticks(rotation = 'vertical')\n",
    "plt.show()"
   ]
  },
  {
   "cell_type": "markdown",
   "id": "0d1bb49f",
   "metadata": {},
   "source": [
    "# Conclusion\n",
    "\n",
    "It looks Random Forest Regressor is the best estimator having better R2 score and lowest Mean Squared & Absolute errors."
   ]
  }
 ],
 "metadata": {
  "interpreter": {
   "hash": "8a43319817bbc639f2299510b5445ad447bf1e0c8ec9e6531fb6bcc2536c660b"
  },
  "kernelspec": {
   "display_name": "Python 3.9.7 64-bit ('ml': conda)",
   "language": "python",
   "name": "python3"
  },
  "language_info": {
   "codemirror_mode": {
    "name": "ipython",
    "version": 3
   },
   "file_extension": ".py",
   "mimetype": "text/x-python",
   "name": "python",
   "nbconvert_exporter": "python",
   "pygments_lexer": "ipython3",
   "version": "3.9.7"
  },
  "orig_nbformat": 4
 },
 "nbformat": 4,
 "nbformat_minor": 2
}
