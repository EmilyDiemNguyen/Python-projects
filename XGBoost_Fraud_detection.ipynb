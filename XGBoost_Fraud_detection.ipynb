{
  "cells": [
    {
      "cell_type": "markdown",
      "metadata": {
        "id": "wXJJeOu7x04v"
      },
      "source": [
        "# **Credit card Fraud Detection - XGBoost**"
      ]
    },
    {
      "cell_type": "markdown",
      "metadata": {
        "id": "I-PaaHOBz7XH"
      },
      "source": [
        "## Import libraries"
      ]
    },
    {
      "cell_type": "code",
      "execution_count": 133,
      "metadata": {
        "id": "SM6qGYsuz27Z"
      },
      "outputs": [],
      "source": [
        "import pandas as pd\n",
        "import numpy as np\n",
        "import matplotlib.pyplot as plt\n",
        "import seaborn as sns\n",
        "import sklearn\n",
        "\n",
        "import warnings\n",
        "warnings.filterwarnings('ignore')\n",
        "\n",
        "%matplotlib inline"
      ]
    },
    {
      "cell_type": "code",
      "execution_count": 134,
      "metadata": {
        "id": "qPcIPYDPeFKS"
      },
      "outputs": [],
      "source": [
        "from IPython.core.interactiveshell import InteractiveShell\n",
        "InteractiveShell.ast_node_interactivity=\"all\""
      ]
    },
    {
      "cell_type": "markdown",
      "metadata": {
        "id": "Vw5bmAMdMLCq"
      },
      "source": [
        "## Import data set"
      ]
    },
    {
      "cell_type": "code",
      "execution_count": 135,
      "metadata": {
        "id": "Z8PQ-uZgGpUB"
      },
      "outputs": [],
      "source": [
        "df = pd.read_csv('/content/creditcard.csv')"
      ]
    },
    {
      "cell_type": "code",
      "execution_count": 136,
      "metadata": {
        "colab": {
          "base_uri": "https://localhost:8080/",
          "height": 300
        },
        "id": "pjQN7-lSMbki",
        "outputId": "0a32ed47-82cd-4f2a-9fc5-067b62927529"
      },
      "outputs": [
        {
          "output_type": "execute_result",
          "data": {
            "text/plain": [
              "   Time     V1     V2    V3     V4     V5     V6     V7     V8     V9  ...  \\\n",
              "0 0.000 -1.360 -0.073 2.536  1.378 -0.338  0.462  0.240  0.099  0.364  ...   \n",
              "1 0.000  1.192  0.266 0.166  0.448  0.060 -0.082 -0.079  0.085 -0.255  ...   \n",
              "2 1.000 -1.358 -1.340 1.773  0.380 -0.503  1.800  0.791  0.248 -1.515  ...   \n",
              "3 1.000 -0.966 -0.185 1.793 -0.863 -0.010  1.247  0.238  0.377 -1.387  ...   \n",
              "4 2.000 -1.158  0.878 1.549  0.403 -0.407  0.096  0.593 -0.271  0.818  ...   \n",
              "\n",
              "     V21    V22    V23    V24    V25    V26    V27    V28  Amount  Class  \n",
              "0 -0.018  0.278 -0.110  0.067  0.129 -0.189  0.134 -0.021 149.620      0  \n",
              "1 -0.226 -0.639  0.101 -0.340  0.167  0.126 -0.009  0.015   2.690      0  \n",
              "2  0.248  0.772  0.909 -0.689 -0.328 -0.139 -0.055 -0.060 378.660      0  \n",
              "3 -0.108  0.005 -0.190 -1.176  0.647 -0.222  0.063  0.061 123.500      0  \n",
              "4 -0.009  0.798 -0.137  0.141 -0.206  0.502  0.219  0.215  69.990      0  \n",
              "\n",
              "[5 rows x 31 columns]"
            ],
            "text/html": [
              "\n",
              "  <div id=\"df-c410087f-93dc-4053-a5b3-0b9da866d117\">\n",
              "    <div class=\"colab-df-container\">\n",
              "      <div>\n",
              "<style scoped>\n",
              "    .dataframe tbody tr th:only-of-type {\n",
              "        vertical-align: middle;\n",
              "    }\n",
              "\n",
              "    .dataframe tbody tr th {\n",
              "        vertical-align: top;\n",
              "    }\n",
              "\n",
              "    .dataframe thead th {\n",
              "        text-align: right;\n",
              "    }\n",
              "</style>\n",
              "<table border=\"1\" class=\"dataframe\">\n",
              "  <thead>\n",
              "    <tr style=\"text-align: right;\">\n",
              "      <th></th>\n",
              "      <th>Time</th>\n",
              "      <th>V1</th>\n",
              "      <th>V2</th>\n",
              "      <th>V3</th>\n",
              "      <th>V4</th>\n",
              "      <th>V5</th>\n",
              "      <th>V6</th>\n",
              "      <th>V7</th>\n",
              "      <th>V8</th>\n",
              "      <th>V9</th>\n",
              "      <th>...</th>\n",
              "      <th>V21</th>\n",
              "      <th>V22</th>\n",
              "      <th>V23</th>\n",
              "      <th>V24</th>\n",
              "      <th>V25</th>\n",
              "      <th>V26</th>\n",
              "      <th>V27</th>\n",
              "      <th>V28</th>\n",
              "      <th>Amount</th>\n",
              "      <th>Class</th>\n",
              "    </tr>\n",
              "  </thead>\n",
              "  <tbody>\n",
              "    <tr>\n",
              "      <th>0</th>\n",
              "      <td>0.000</td>\n",
              "      <td>-1.360</td>\n",
              "      <td>-0.073</td>\n",
              "      <td>2.536</td>\n",
              "      <td>1.378</td>\n",
              "      <td>-0.338</td>\n",
              "      <td>0.462</td>\n",
              "      <td>0.240</td>\n",
              "      <td>0.099</td>\n",
              "      <td>0.364</td>\n",
              "      <td>...</td>\n",
              "      <td>-0.018</td>\n",
              "      <td>0.278</td>\n",
              "      <td>-0.110</td>\n",
              "      <td>0.067</td>\n",
              "      <td>0.129</td>\n",
              "      <td>-0.189</td>\n",
              "      <td>0.134</td>\n",
              "      <td>-0.021</td>\n",
              "      <td>149.620</td>\n",
              "      <td>0</td>\n",
              "    </tr>\n",
              "    <tr>\n",
              "      <th>1</th>\n",
              "      <td>0.000</td>\n",
              "      <td>1.192</td>\n",
              "      <td>0.266</td>\n",
              "      <td>0.166</td>\n",
              "      <td>0.448</td>\n",
              "      <td>0.060</td>\n",
              "      <td>-0.082</td>\n",
              "      <td>-0.079</td>\n",
              "      <td>0.085</td>\n",
              "      <td>-0.255</td>\n",
              "      <td>...</td>\n",
              "      <td>-0.226</td>\n",
              "      <td>-0.639</td>\n",
              "      <td>0.101</td>\n",
              "      <td>-0.340</td>\n",
              "      <td>0.167</td>\n",
              "      <td>0.126</td>\n",
              "      <td>-0.009</td>\n",
              "      <td>0.015</td>\n",
              "      <td>2.690</td>\n",
              "      <td>0</td>\n",
              "    </tr>\n",
              "    <tr>\n",
              "      <th>2</th>\n",
              "      <td>1.000</td>\n",
              "      <td>-1.358</td>\n",
              "      <td>-1.340</td>\n",
              "      <td>1.773</td>\n",
              "      <td>0.380</td>\n",
              "      <td>-0.503</td>\n",
              "      <td>1.800</td>\n",
              "      <td>0.791</td>\n",
              "      <td>0.248</td>\n",
              "      <td>-1.515</td>\n",
              "      <td>...</td>\n",
              "      <td>0.248</td>\n",
              "      <td>0.772</td>\n",
              "      <td>0.909</td>\n",
              "      <td>-0.689</td>\n",
              "      <td>-0.328</td>\n",
              "      <td>-0.139</td>\n",
              "      <td>-0.055</td>\n",
              "      <td>-0.060</td>\n",
              "      <td>378.660</td>\n",
              "      <td>0</td>\n",
              "    </tr>\n",
              "    <tr>\n",
              "      <th>3</th>\n",
              "      <td>1.000</td>\n",
              "      <td>-0.966</td>\n",
              "      <td>-0.185</td>\n",
              "      <td>1.793</td>\n",
              "      <td>-0.863</td>\n",
              "      <td>-0.010</td>\n",
              "      <td>1.247</td>\n",
              "      <td>0.238</td>\n",
              "      <td>0.377</td>\n",
              "      <td>-1.387</td>\n",
              "      <td>...</td>\n",
              "      <td>-0.108</td>\n",
              "      <td>0.005</td>\n",
              "      <td>-0.190</td>\n",
              "      <td>-1.176</td>\n",
              "      <td>0.647</td>\n",
              "      <td>-0.222</td>\n",
              "      <td>0.063</td>\n",
              "      <td>0.061</td>\n",
              "      <td>123.500</td>\n",
              "      <td>0</td>\n",
              "    </tr>\n",
              "    <tr>\n",
              "      <th>4</th>\n",
              "      <td>2.000</td>\n",
              "      <td>-1.158</td>\n",
              "      <td>0.878</td>\n",
              "      <td>1.549</td>\n",
              "      <td>0.403</td>\n",
              "      <td>-0.407</td>\n",
              "      <td>0.096</td>\n",
              "      <td>0.593</td>\n",
              "      <td>-0.271</td>\n",
              "      <td>0.818</td>\n",
              "      <td>...</td>\n",
              "      <td>-0.009</td>\n",
              "      <td>0.798</td>\n",
              "      <td>-0.137</td>\n",
              "      <td>0.141</td>\n",
              "      <td>-0.206</td>\n",
              "      <td>0.502</td>\n",
              "      <td>0.219</td>\n",
              "      <td>0.215</td>\n",
              "      <td>69.990</td>\n",
              "      <td>0</td>\n",
              "    </tr>\n",
              "  </tbody>\n",
              "</table>\n",
              "<p>5 rows × 31 columns</p>\n",
              "</div>\n",
              "      <button class=\"colab-df-convert\" onclick=\"convertToInteractive('df-c410087f-93dc-4053-a5b3-0b9da866d117')\"\n",
              "              title=\"Convert this dataframe to an interactive table.\"\n",
              "              style=\"display:none;\">\n",
              "        \n",
              "  <svg xmlns=\"http://www.w3.org/2000/svg\" height=\"24px\"viewBox=\"0 0 24 24\"\n",
              "       width=\"24px\">\n",
              "    <path d=\"M0 0h24v24H0V0z\" fill=\"none\"/>\n",
              "    <path d=\"M18.56 5.44l.94 2.06.94-2.06 2.06-.94-2.06-.94-.94-2.06-.94 2.06-2.06.94zm-11 1L8.5 8.5l.94-2.06 2.06-.94-2.06-.94L8.5 2.5l-.94 2.06-2.06.94zm10 10l.94 2.06.94-2.06 2.06-.94-2.06-.94-.94-2.06-.94 2.06-2.06.94z\"/><path d=\"M17.41 7.96l-1.37-1.37c-.4-.4-.92-.59-1.43-.59-.52 0-1.04.2-1.43.59L10.3 9.45l-7.72 7.72c-.78.78-.78 2.05 0 2.83L4 21.41c.39.39.9.59 1.41.59.51 0 1.02-.2 1.41-.59l7.78-7.78 2.81-2.81c.8-.78.8-2.07 0-2.86zM5.41 20L4 18.59l7.72-7.72 1.47 1.35L5.41 20z\"/>\n",
              "  </svg>\n",
              "      </button>\n",
              "      \n",
              "  <style>\n",
              "    .colab-df-container {\n",
              "      display:flex;\n",
              "      flex-wrap:wrap;\n",
              "      gap: 12px;\n",
              "    }\n",
              "\n",
              "    .colab-df-convert {\n",
              "      background-color: #E8F0FE;\n",
              "      border: none;\n",
              "      border-radius: 50%;\n",
              "      cursor: pointer;\n",
              "      display: none;\n",
              "      fill: #1967D2;\n",
              "      height: 32px;\n",
              "      padding: 0 0 0 0;\n",
              "      width: 32px;\n",
              "    }\n",
              "\n",
              "    .colab-df-convert:hover {\n",
              "      background-color: #E2EBFA;\n",
              "      box-shadow: 0px 1px 2px rgba(60, 64, 67, 0.3), 0px 1px 3px 1px rgba(60, 64, 67, 0.15);\n",
              "      fill: #174EA6;\n",
              "    }\n",
              "\n",
              "    [theme=dark] .colab-df-convert {\n",
              "      background-color: #3B4455;\n",
              "      fill: #D2E3FC;\n",
              "    }\n",
              "\n",
              "    [theme=dark] .colab-df-convert:hover {\n",
              "      background-color: #434B5C;\n",
              "      box-shadow: 0px 1px 3px 1px rgba(0, 0, 0, 0.15);\n",
              "      filter: drop-shadow(0px 1px 2px rgba(0, 0, 0, 0.3));\n",
              "      fill: #FFFFFF;\n",
              "    }\n",
              "  </style>\n",
              "\n",
              "      <script>\n",
              "        const buttonEl =\n",
              "          document.querySelector('#df-c410087f-93dc-4053-a5b3-0b9da866d117 button.colab-df-convert');\n",
              "        buttonEl.style.display =\n",
              "          google.colab.kernel.accessAllowed ? 'block' : 'none';\n",
              "\n",
              "        async function convertToInteractive(key) {\n",
              "          const element = document.querySelector('#df-c410087f-93dc-4053-a5b3-0b9da866d117');\n",
              "          const dataTable =\n",
              "            await google.colab.kernel.invokeFunction('convertToInteractive',\n",
              "                                                     [key], {});\n",
              "          if (!dataTable) return;\n",
              "\n",
              "          const docLinkHtml = 'Like what you see? Visit the ' +\n",
              "            '<a target=\"_blank\" href=https://colab.research.google.com/notebooks/data_table.ipynb>data table notebook</a>'\n",
              "            + ' to learn more about interactive tables.';\n",
              "          element.innerHTML = '';\n",
              "          dataTable['output_type'] = 'display_data';\n",
              "          await google.colab.output.renderOutput(dataTable, element);\n",
              "          const docLink = document.createElement('div');\n",
              "          docLink.innerHTML = docLinkHtml;\n",
              "          element.appendChild(docLink);\n",
              "        }\n",
              "      </script>\n",
              "    </div>\n",
              "  </div>\n",
              "  "
            ]
          },
          "metadata": {},
          "execution_count": 136
        }
      ],
      "source": [
        "df.head()"
      ]
    },
    {
      "cell_type": "markdown",
      "metadata": {
        "id": "Yf-ddu1I298z"
      },
      "source": [
        "The dataset contains transactions made by European credit card holders in September 2013, and has been anonymized - Features V1, V2, ..., V28 are results from applying PCA (Principal Component Analysis) on the raw data. The only intact features are Time and Amount. The class label is titled Class where 0 denotes a genuine transaction and 1 signifies fraud."
      ]
    },
    {
      "cell_type": "code",
      "execution_count": 137,
      "metadata": {
        "colab": {
          "base_uri": "https://localhost:8080/"
        },
        "id": "Ty2kCN7dMd9d",
        "outputId": "8b8e30b5-e377-46ab-a22d-bbcaee07eba0"
      },
      "outputs": [
        {
          "output_type": "execute_result",
          "data": {
            "text/plain": [
              "(284807, 31)"
            ]
          },
          "metadata": {},
          "execution_count": 137
        }
      ],
      "source": [
        "# Check number of records and attributes\n",
        "df.shape"
      ]
    },
    {
      "cell_type": "code",
      "execution_count": 138,
      "metadata": {
        "colab": {
          "base_uri": "https://localhost:8080/"
        },
        "id": "WMYDcPBNMfp-",
        "outputId": "c9f129cf-b793-4987-89bf-d7eb3a0d852e"
      },
      "outputs": [
        {
          "output_type": "execute_result",
          "data": {
            "text/plain": [
              "0"
            ]
          },
          "metadata": {},
          "execution_count": 138
        }
      ],
      "source": [
        "# Check null or missing values\n",
        "df.isna().sum().sum()"
      ]
    },
    {
      "cell_type": "code",
      "execution_count": 139,
      "metadata": {
        "colab": {
          "base_uri": "https://localhost:8080/"
        },
        "id": "vMlme1SpV_mN",
        "outputId": "bf43cdf0-620e-4177-807c-e021db64e6d9"
      },
      "outputs": [
        {
          "output_type": "stream",
          "name": "stdout",
          "text": [
            "<class 'pandas.core.frame.DataFrame'>\n",
            "RangeIndex: 284807 entries, 0 to 284806\n",
            "Data columns (total 31 columns):\n",
            " #   Column  Non-Null Count   Dtype  \n",
            "---  ------  --------------   -----  \n",
            " 0   Time    284807 non-null  float64\n",
            " 1   V1      284807 non-null  float64\n",
            " 2   V2      284807 non-null  float64\n",
            " 3   V3      284807 non-null  float64\n",
            " 4   V4      284807 non-null  float64\n",
            " 5   V5      284807 non-null  float64\n",
            " 6   V6      284807 non-null  float64\n",
            " 7   V7      284807 non-null  float64\n",
            " 8   V8      284807 non-null  float64\n",
            " 9   V9      284807 non-null  float64\n",
            " 10  V10     284807 non-null  float64\n",
            " 11  V11     284807 non-null  float64\n",
            " 12  V12     284807 non-null  float64\n",
            " 13  V13     284807 non-null  float64\n",
            " 14  V14     284807 non-null  float64\n",
            " 15  V15     284807 non-null  float64\n",
            " 16  V16     284807 non-null  float64\n",
            " 17  V17     284807 non-null  float64\n",
            " 18  V18     284807 non-null  float64\n",
            " 19  V19     284807 non-null  float64\n",
            " 20  V20     284807 non-null  float64\n",
            " 21  V21     284807 non-null  float64\n",
            " 22  V22     284807 non-null  float64\n",
            " 23  V23     284807 non-null  float64\n",
            " 24  V24     284807 non-null  float64\n",
            " 25  V25     284807 non-null  float64\n",
            " 26  V26     284807 non-null  float64\n",
            " 27  V27     284807 non-null  float64\n",
            " 28  V28     284807 non-null  float64\n",
            " 29  Amount  284807 non-null  float64\n",
            " 30  Class   284807 non-null  int64  \n",
            "dtypes: float64(30), int64(1)\n",
            "memory usage: 67.4 MB\n"
          ]
        }
      ],
      "source": [
        "# Displaying Dataframe Structure\n",
        "df.info()"
      ]
    },
    {
      "cell_type": "code",
      "execution_count": 140,
      "metadata": {
        "colab": {
          "base_uri": "https://localhost:8080/",
          "height": 1000
        },
        "id": "aKE9s_uabZrN",
        "outputId": "40e6958a-f2b8-488f-aba1-cde28b316bf5"
      },
      "outputs": [
        {
          "output_type": "execute_result",
          "data": {
            "text/plain": [
              "            count      mean       std      min       25%       50%        75%  \\\n",
              "Time   284807.000 94813.860 47488.146    0.000 54201.500 84692.000 139320.500   \n",
              "V1     284807.000     0.000     1.959  -56.408    -0.920     0.018      1.316   \n",
              "V2     284807.000     0.000     1.651  -72.716    -0.599     0.065      0.804   \n",
              "V3     284807.000    -0.000     1.516  -48.326    -0.890     0.180      1.027   \n",
              "V4     284807.000     0.000     1.416   -5.683    -0.849    -0.020      0.743   \n",
              "V5     284807.000    -0.000     1.380 -113.743    -0.692    -0.054      0.612   \n",
              "V6     284807.000     0.000     1.332  -26.161    -0.768    -0.274      0.399   \n",
              "V7     284807.000    -0.000     1.237  -43.557    -0.554     0.040      0.570   \n",
              "V8     284807.000    -0.000     1.194  -73.217    -0.209     0.022      0.327   \n",
              "V9     284807.000    -0.000     1.099  -13.434    -0.643    -0.051      0.597   \n",
              "V10    284807.000     0.000     1.089  -24.588    -0.535    -0.093      0.454   \n",
              "V11    284807.000     0.000     1.021   -4.797    -0.762    -0.033      0.740   \n",
              "V12    284807.000    -0.000     0.999  -18.684    -0.406     0.140      0.618   \n",
              "V13    284807.000     0.000     0.995   -5.792    -0.649    -0.014      0.663   \n",
              "V14    284807.000     0.000     0.959  -19.214    -0.426     0.051      0.493   \n",
              "V15    284807.000     0.000     0.915   -4.499    -0.583     0.048      0.649   \n",
              "V16    284807.000     0.000     0.876  -14.130    -0.468     0.066      0.523   \n",
              "V17    284807.000    -0.000     0.849  -25.163    -0.484    -0.066      0.400   \n",
              "V18    284807.000     0.000     0.838   -9.499    -0.499    -0.004      0.501   \n",
              "V19    284807.000     0.000     0.814   -7.214    -0.456     0.004      0.459   \n",
              "V20    284807.000     0.000     0.771  -54.498    -0.212    -0.062      0.133   \n",
              "V21    284807.000     0.000     0.735  -34.830    -0.228    -0.029      0.186   \n",
              "V22    284807.000     0.000     0.726  -10.933    -0.542     0.007      0.529   \n",
              "V23    284807.000     0.000     0.624  -44.808    -0.162    -0.011      0.148   \n",
              "V24    284807.000     0.000     0.606   -2.837    -0.355     0.041      0.440   \n",
              "V25    284807.000     0.000     0.521  -10.295    -0.317     0.017      0.351   \n",
              "V26    284807.000     0.000     0.482   -2.605    -0.327    -0.052      0.241   \n",
              "V27    284807.000    -0.000     0.404  -22.566    -0.071     0.001      0.091   \n",
              "V28    284807.000    -0.000     0.330  -15.430    -0.053     0.011      0.078   \n",
              "Amount 284807.000    88.350   250.120    0.000     5.600    22.000     77.165   \n",
              "Class  284807.000     0.002     0.042    0.000     0.000     0.000      0.000   \n",
              "\n",
              "              max  \n",
              "Time   172792.000  \n",
              "V1          2.455  \n",
              "V2         22.058  \n",
              "V3          9.383  \n",
              "V4         16.875  \n",
              "V5         34.802  \n",
              "V6         73.302  \n",
              "V7        120.589  \n",
              "V8         20.007  \n",
              "V9         15.595  \n",
              "V10        23.745  \n",
              "V11        12.019  \n",
              "V12         7.848  \n",
              "V13         7.127  \n",
              "V14        10.527  \n",
              "V15         8.878  \n",
              "V16        17.315  \n",
              "V17         9.254  \n",
              "V18         5.041  \n",
              "V19         5.592  \n",
              "V20        39.421  \n",
              "V21        27.203  \n",
              "V22        10.503  \n",
              "V23        22.528  \n",
              "V24         4.585  \n",
              "V25         7.520  \n",
              "V26         3.517  \n",
              "V27        31.612  \n",
              "V28        33.848  \n",
              "Amount  25691.160  \n",
              "Class       1.000  "
            ],
            "text/html": [
              "\n",
              "  <div id=\"df-ab7bcca2-a977-47b4-b299-43cd9444627e\">\n",
              "    <div class=\"colab-df-container\">\n",
              "      <div>\n",
              "<style scoped>\n",
              "    .dataframe tbody tr th:only-of-type {\n",
              "        vertical-align: middle;\n",
              "    }\n",
              "\n",
              "    .dataframe tbody tr th {\n",
              "        vertical-align: top;\n",
              "    }\n",
              "\n",
              "    .dataframe thead th {\n",
              "        text-align: right;\n",
              "    }\n",
              "</style>\n",
              "<table border=\"1\" class=\"dataframe\">\n",
              "  <thead>\n",
              "    <tr style=\"text-align: right;\">\n",
              "      <th></th>\n",
              "      <th>count</th>\n",
              "      <th>mean</th>\n",
              "      <th>std</th>\n",
              "      <th>min</th>\n",
              "      <th>25%</th>\n",
              "      <th>50%</th>\n",
              "      <th>75%</th>\n",
              "      <th>max</th>\n",
              "    </tr>\n",
              "  </thead>\n",
              "  <tbody>\n",
              "    <tr>\n",
              "      <th>Time</th>\n",
              "      <td>284807.000</td>\n",
              "      <td>94813.860</td>\n",
              "      <td>47488.146</td>\n",
              "      <td>0.000</td>\n",
              "      <td>54201.500</td>\n",
              "      <td>84692.000</td>\n",
              "      <td>139320.500</td>\n",
              "      <td>172792.000</td>\n",
              "    </tr>\n",
              "    <tr>\n",
              "      <th>V1</th>\n",
              "      <td>284807.000</td>\n",
              "      <td>0.000</td>\n",
              "      <td>1.959</td>\n",
              "      <td>-56.408</td>\n",
              "      <td>-0.920</td>\n",
              "      <td>0.018</td>\n",
              "      <td>1.316</td>\n",
              "      <td>2.455</td>\n",
              "    </tr>\n",
              "    <tr>\n",
              "      <th>V2</th>\n",
              "      <td>284807.000</td>\n",
              "      <td>0.000</td>\n",
              "      <td>1.651</td>\n",
              "      <td>-72.716</td>\n",
              "      <td>-0.599</td>\n",
              "      <td>0.065</td>\n",
              "      <td>0.804</td>\n",
              "      <td>22.058</td>\n",
              "    </tr>\n",
              "    <tr>\n",
              "      <th>V3</th>\n",
              "      <td>284807.000</td>\n",
              "      <td>-0.000</td>\n",
              "      <td>1.516</td>\n",
              "      <td>-48.326</td>\n",
              "      <td>-0.890</td>\n",
              "      <td>0.180</td>\n",
              "      <td>1.027</td>\n",
              "      <td>9.383</td>\n",
              "    </tr>\n",
              "    <tr>\n",
              "      <th>V4</th>\n",
              "      <td>284807.000</td>\n",
              "      <td>0.000</td>\n",
              "      <td>1.416</td>\n",
              "      <td>-5.683</td>\n",
              "      <td>-0.849</td>\n",
              "      <td>-0.020</td>\n",
              "      <td>0.743</td>\n",
              "      <td>16.875</td>\n",
              "    </tr>\n",
              "    <tr>\n",
              "      <th>V5</th>\n",
              "      <td>284807.000</td>\n",
              "      <td>-0.000</td>\n",
              "      <td>1.380</td>\n",
              "      <td>-113.743</td>\n",
              "      <td>-0.692</td>\n",
              "      <td>-0.054</td>\n",
              "      <td>0.612</td>\n",
              "      <td>34.802</td>\n",
              "    </tr>\n",
              "    <tr>\n",
              "      <th>V6</th>\n",
              "      <td>284807.000</td>\n",
              "      <td>0.000</td>\n",
              "      <td>1.332</td>\n",
              "      <td>-26.161</td>\n",
              "      <td>-0.768</td>\n",
              "      <td>-0.274</td>\n",
              "      <td>0.399</td>\n",
              "      <td>73.302</td>\n",
              "    </tr>\n",
              "    <tr>\n",
              "      <th>V7</th>\n",
              "      <td>284807.000</td>\n",
              "      <td>-0.000</td>\n",
              "      <td>1.237</td>\n",
              "      <td>-43.557</td>\n",
              "      <td>-0.554</td>\n",
              "      <td>0.040</td>\n",
              "      <td>0.570</td>\n",
              "      <td>120.589</td>\n",
              "    </tr>\n",
              "    <tr>\n",
              "      <th>V8</th>\n",
              "      <td>284807.000</td>\n",
              "      <td>-0.000</td>\n",
              "      <td>1.194</td>\n",
              "      <td>-73.217</td>\n",
              "      <td>-0.209</td>\n",
              "      <td>0.022</td>\n",
              "      <td>0.327</td>\n",
              "      <td>20.007</td>\n",
              "    </tr>\n",
              "    <tr>\n",
              "      <th>V9</th>\n",
              "      <td>284807.000</td>\n",
              "      <td>-0.000</td>\n",
              "      <td>1.099</td>\n",
              "      <td>-13.434</td>\n",
              "      <td>-0.643</td>\n",
              "      <td>-0.051</td>\n",
              "      <td>0.597</td>\n",
              "      <td>15.595</td>\n",
              "    </tr>\n",
              "    <tr>\n",
              "      <th>V10</th>\n",
              "      <td>284807.000</td>\n",
              "      <td>0.000</td>\n",
              "      <td>1.089</td>\n",
              "      <td>-24.588</td>\n",
              "      <td>-0.535</td>\n",
              "      <td>-0.093</td>\n",
              "      <td>0.454</td>\n",
              "      <td>23.745</td>\n",
              "    </tr>\n",
              "    <tr>\n",
              "      <th>V11</th>\n",
              "      <td>284807.000</td>\n",
              "      <td>0.000</td>\n",
              "      <td>1.021</td>\n",
              "      <td>-4.797</td>\n",
              "      <td>-0.762</td>\n",
              "      <td>-0.033</td>\n",
              "      <td>0.740</td>\n",
              "      <td>12.019</td>\n",
              "    </tr>\n",
              "    <tr>\n",
              "      <th>V12</th>\n",
              "      <td>284807.000</td>\n",
              "      <td>-0.000</td>\n",
              "      <td>0.999</td>\n",
              "      <td>-18.684</td>\n",
              "      <td>-0.406</td>\n",
              "      <td>0.140</td>\n",
              "      <td>0.618</td>\n",
              "      <td>7.848</td>\n",
              "    </tr>\n",
              "    <tr>\n",
              "      <th>V13</th>\n",
              "      <td>284807.000</td>\n",
              "      <td>0.000</td>\n",
              "      <td>0.995</td>\n",
              "      <td>-5.792</td>\n",
              "      <td>-0.649</td>\n",
              "      <td>-0.014</td>\n",
              "      <td>0.663</td>\n",
              "      <td>7.127</td>\n",
              "    </tr>\n",
              "    <tr>\n",
              "      <th>V14</th>\n",
              "      <td>284807.000</td>\n",
              "      <td>0.000</td>\n",
              "      <td>0.959</td>\n",
              "      <td>-19.214</td>\n",
              "      <td>-0.426</td>\n",
              "      <td>0.051</td>\n",
              "      <td>0.493</td>\n",
              "      <td>10.527</td>\n",
              "    </tr>\n",
              "    <tr>\n",
              "      <th>V15</th>\n",
              "      <td>284807.000</td>\n",
              "      <td>0.000</td>\n",
              "      <td>0.915</td>\n",
              "      <td>-4.499</td>\n",
              "      <td>-0.583</td>\n",
              "      <td>0.048</td>\n",
              "      <td>0.649</td>\n",
              "      <td>8.878</td>\n",
              "    </tr>\n",
              "    <tr>\n",
              "      <th>V16</th>\n",
              "      <td>284807.000</td>\n",
              "      <td>0.000</td>\n",
              "      <td>0.876</td>\n",
              "      <td>-14.130</td>\n",
              "      <td>-0.468</td>\n",
              "      <td>0.066</td>\n",
              "      <td>0.523</td>\n",
              "      <td>17.315</td>\n",
              "    </tr>\n",
              "    <tr>\n",
              "      <th>V17</th>\n",
              "      <td>284807.000</td>\n",
              "      <td>-0.000</td>\n",
              "      <td>0.849</td>\n",
              "      <td>-25.163</td>\n",
              "      <td>-0.484</td>\n",
              "      <td>-0.066</td>\n",
              "      <td>0.400</td>\n",
              "      <td>9.254</td>\n",
              "    </tr>\n",
              "    <tr>\n",
              "      <th>V18</th>\n",
              "      <td>284807.000</td>\n",
              "      <td>0.000</td>\n",
              "      <td>0.838</td>\n",
              "      <td>-9.499</td>\n",
              "      <td>-0.499</td>\n",
              "      <td>-0.004</td>\n",
              "      <td>0.501</td>\n",
              "      <td>5.041</td>\n",
              "    </tr>\n",
              "    <tr>\n",
              "      <th>V19</th>\n",
              "      <td>284807.000</td>\n",
              "      <td>0.000</td>\n",
              "      <td>0.814</td>\n",
              "      <td>-7.214</td>\n",
              "      <td>-0.456</td>\n",
              "      <td>0.004</td>\n",
              "      <td>0.459</td>\n",
              "      <td>5.592</td>\n",
              "    </tr>\n",
              "    <tr>\n",
              "      <th>V20</th>\n",
              "      <td>284807.000</td>\n",
              "      <td>0.000</td>\n",
              "      <td>0.771</td>\n",
              "      <td>-54.498</td>\n",
              "      <td>-0.212</td>\n",
              "      <td>-0.062</td>\n",
              "      <td>0.133</td>\n",
              "      <td>39.421</td>\n",
              "    </tr>\n",
              "    <tr>\n",
              "      <th>V21</th>\n",
              "      <td>284807.000</td>\n",
              "      <td>0.000</td>\n",
              "      <td>0.735</td>\n",
              "      <td>-34.830</td>\n",
              "      <td>-0.228</td>\n",
              "      <td>-0.029</td>\n",
              "      <td>0.186</td>\n",
              "      <td>27.203</td>\n",
              "    </tr>\n",
              "    <tr>\n",
              "      <th>V22</th>\n",
              "      <td>284807.000</td>\n",
              "      <td>0.000</td>\n",
              "      <td>0.726</td>\n",
              "      <td>-10.933</td>\n",
              "      <td>-0.542</td>\n",
              "      <td>0.007</td>\n",
              "      <td>0.529</td>\n",
              "      <td>10.503</td>\n",
              "    </tr>\n",
              "    <tr>\n",
              "      <th>V23</th>\n",
              "      <td>284807.000</td>\n",
              "      <td>0.000</td>\n",
              "      <td>0.624</td>\n",
              "      <td>-44.808</td>\n",
              "      <td>-0.162</td>\n",
              "      <td>-0.011</td>\n",
              "      <td>0.148</td>\n",
              "      <td>22.528</td>\n",
              "    </tr>\n",
              "    <tr>\n",
              "      <th>V24</th>\n",
              "      <td>284807.000</td>\n",
              "      <td>0.000</td>\n",
              "      <td>0.606</td>\n",
              "      <td>-2.837</td>\n",
              "      <td>-0.355</td>\n",
              "      <td>0.041</td>\n",
              "      <td>0.440</td>\n",
              "      <td>4.585</td>\n",
              "    </tr>\n",
              "    <tr>\n",
              "      <th>V25</th>\n",
              "      <td>284807.000</td>\n",
              "      <td>0.000</td>\n",
              "      <td>0.521</td>\n",
              "      <td>-10.295</td>\n",
              "      <td>-0.317</td>\n",
              "      <td>0.017</td>\n",
              "      <td>0.351</td>\n",
              "      <td>7.520</td>\n",
              "    </tr>\n",
              "    <tr>\n",
              "      <th>V26</th>\n",
              "      <td>284807.000</td>\n",
              "      <td>0.000</td>\n",
              "      <td>0.482</td>\n",
              "      <td>-2.605</td>\n",
              "      <td>-0.327</td>\n",
              "      <td>-0.052</td>\n",
              "      <td>0.241</td>\n",
              "      <td>3.517</td>\n",
              "    </tr>\n",
              "    <tr>\n",
              "      <th>V27</th>\n",
              "      <td>284807.000</td>\n",
              "      <td>-0.000</td>\n",
              "      <td>0.404</td>\n",
              "      <td>-22.566</td>\n",
              "      <td>-0.071</td>\n",
              "      <td>0.001</td>\n",
              "      <td>0.091</td>\n",
              "      <td>31.612</td>\n",
              "    </tr>\n",
              "    <tr>\n",
              "      <th>V28</th>\n",
              "      <td>284807.000</td>\n",
              "      <td>-0.000</td>\n",
              "      <td>0.330</td>\n",
              "      <td>-15.430</td>\n",
              "      <td>-0.053</td>\n",
              "      <td>0.011</td>\n",
              "      <td>0.078</td>\n",
              "      <td>33.848</td>\n",
              "    </tr>\n",
              "    <tr>\n",
              "      <th>Amount</th>\n",
              "      <td>284807.000</td>\n",
              "      <td>88.350</td>\n",
              "      <td>250.120</td>\n",
              "      <td>0.000</td>\n",
              "      <td>5.600</td>\n",
              "      <td>22.000</td>\n",
              "      <td>77.165</td>\n",
              "      <td>25691.160</td>\n",
              "    </tr>\n",
              "    <tr>\n",
              "      <th>Class</th>\n",
              "      <td>284807.000</td>\n",
              "      <td>0.002</td>\n",
              "      <td>0.042</td>\n",
              "      <td>0.000</td>\n",
              "      <td>0.000</td>\n",
              "      <td>0.000</td>\n",
              "      <td>0.000</td>\n",
              "      <td>1.000</td>\n",
              "    </tr>\n",
              "  </tbody>\n",
              "</table>\n",
              "</div>\n",
              "      <button class=\"colab-df-convert\" onclick=\"convertToInteractive('df-ab7bcca2-a977-47b4-b299-43cd9444627e')\"\n",
              "              title=\"Convert this dataframe to an interactive table.\"\n",
              "              style=\"display:none;\">\n",
              "        \n",
              "  <svg xmlns=\"http://www.w3.org/2000/svg\" height=\"24px\"viewBox=\"0 0 24 24\"\n",
              "       width=\"24px\">\n",
              "    <path d=\"M0 0h24v24H0V0z\" fill=\"none\"/>\n",
              "    <path d=\"M18.56 5.44l.94 2.06.94-2.06 2.06-.94-2.06-.94-.94-2.06-.94 2.06-2.06.94zm-11 1L8.5 8.5l.94-2.06 2.06-.94-2.06-.94L8.5 2.5l-.94 2.06-2.06.94zm10 10l.94 2.06.94-2.06 2.06-.94-2.06-.94-.94-2.06-.94 2.06-2.06.94z\"/><path d=\"M17.41 7.96l-1.37-1.37c-.4-.4-.92-.59-1.43-.59-.52 0-1.04.2-1.43.59L10.3 9.45l-7.72 7.72c-.78.78-.78 2.05 0 2.83L4 21.41c.39.39.9.59 1.41.59.51 0 1.02-.2 1.41-.59l7.78-7.78 2.81-2.81c.8-.78.8-2.07 0-2.86zM5.41 20L4 18.59l7.72-7.72 1.47 1.35L5.41 20z\"/>\n",
              "  </svg>\n",
              "      </button>\n",
              "      \n",
              "  <style>\n",
              "    .colab-df-container {\n",
              "      display:flex;\n",
              "      flex-wrap:wrap;\n",
              "      gap: 12px;\n",
              "    }\n",
              "\n",
              "    .colab-df-convert {\n",
              "      background-color: #E8F0FE;\n",
              "      border: none;\n",
              "      border-radius: 50%;\n",
              "      cursor: pointer;\n",
              "      display: none;\n",
              "      fill: #1967D2;\n",
              "      height: 32px;\n",
              "      padding: 0 0 0 0;\n",
              "      width: 32px;\n",
              "    }\n",
              "\n",
              "    .colab-df-convert:hover {\n",
              "      background-color: #E2EBFA;\n",
              "      box-shadow: 0px 1px 2px rgba(60, 64, 67, 0.3), 0px 1px 3px 1px rgba(60, 64, 67, 0.15);\n",
              "      fill: #174EA6;\n",
              "    }\n",
              "\n",
              "    [theme=dark] .colab-df-convert {\n",
              "      background-color: #3B4455;\n",
              "      fill: #D2E3FC;\n",
              "    }\n",
              "\n",
              "    [theme=dark] .colab-df-convert:hover {\n",
              "      background-color: #434B5C;\n",
              "      box-shadow: 0px 1px 3px 1px rgba(0, 0, 0, 0.15);\n",
              "      filter: drop-shadow(0px 1px 2px rgba(0, 0, 0, 0.3));\n",
              "      fill: #FFFFFF;\n",
              "    }\n",
              "  </style>\n",
              "\n",
              "      <script>\n",
              "        const buttonEl =\n",
              "          document.querySelector('#df-ab7bcca2-a977-47b4-b299-43cd9444627e button.colab-df-convert');\n",
              "        buttonEl.style.display =\n",
              "          google.colab.kernel.accessAllowed ? 'block' : 'none';\n",
              "\n",
              "        async function convertToInteractive(key) {\n",
              "          const element = document.querySelector('#df-ab7bcca2-a977-47b4-b299-43cd9444627e');\n",
              "          const dataTable =\n",
              "            await google.colab.kernel.invokeFunction('convertToInteractive',\n",
              "                                                     [key], {});\n",
              "          if (!dataTable) return;\n",
              "\n",
              "          const docLinkHtml = 'Like what you see? Visit the ' +\n",
              "            '<a target=\"_blank\" href=https://colab.research.google.com/notebooks/data_table.ipynb>data table notebook</a>'\n",
              "            + ' to learn more about interactive tables.';\n",
              "          element.innerHTML = '';\n",
              "          dataTable['output_type'] = 'display_data';\n",
              "          await google.colab.output.renderOutput(dataTable, element);\n",
              "          const docLink = document.createElement('div');\n",
              "          docLink.innerHTML = docLinkHtml;\n",
              "          element.appendChild(docLink);\n",
              "        }\n",
              "      </script>\n",
              "    </div>\n",
              "  </div>\n",
              "  "
            ]
          },
          "metadata": {},
          "execution_count": 140
        }
      ],
      "source": [
        "# decsribing the stats for numerical attributes\n",
        "pd.set_option(\"display.float_format\", lambda x: \"%.3f\" % x)\n",
        "df.describe().T"
      ]
    },
    {
      "cell_type": "markdown",
      "metadata": {
        "id": "bjW8NR1Y4rNv"
      },
      "source": [
        "Inspecting the statistics above shows that the V1-V28 attributes are zero-centered, but this is not the case for the other two input attributes Time and Amount."
      ]
    },
    {
      "cell_type": "code",
      "execution_count": 141,
      "metadata": {
        "colab": {
          "base_uri": "https://localhost:8080/",
          "height": 300
        },
        "id": "dwU8RpaI5MQE",
        "outputId": "68fd31e7-c2ad-45b6-e022-556d4cc43170"
      },
      "outputs": [
        {
          "output_type": "execute_result",
          "data": {
            "text/plain": [
              "          Amount       Time\n",
              "count 284807.000 284807.000\n",
              "mean      88.350  94813.860\n",
              "std      250.120  47488.146\n",
              "min        0.000      0.000\n",
              "25%        5.600  54201.500\n",
              "50%       22.000  84692.000\n",
              "75%       77.165 139320.500\n",
              "max    25691.160 172792.000"
            ],
            "text/html": [
              "\n",
              "  <div id=\"df-a8ea9b17-105e-41b4-a3db-d060b8e455dc\">\n",
              "    <div class=\"colab-df-container\">\n",
              "      <div>\n",
              "<style scoped>\n",
              "    .dataframe tbody tr th:only-of-type {\n",
              "        vertical-align: middle;\n",
              "    }\n",
              "\n",
              "    .dataframe tbody tr th {\n",
              "        vertical-align: top;\n",
              "    }\n",
              "\n",
              "    .dataframe thead th {\n",
              "        text-align: right;\n",
              "    }\n",
              "</style>\n",
              "<table border=\"1\" class=\"dataframe\">\n",
              "  <thead>\n",
              "    <tr style=\"text-align: right;\">\n",
              "      <th></th>\n",
              "      <th>Amount</th>\n",
              "      <th>Time</th>\n",
              "    </tr>\n",
              "  </thead>\n",
              "  <tbody>\n",
              "    <tr>\n",
              "      <th>count</th>\n",
              "      <td>284807.000</td>\n",
              "      <td>284807.000</td>\n",
              "    </tr>\n",
              "    <tr>\n",
              "      <th>mean</th>\n",
              "      <td>88.350</td>\n",
              "      <td>94813.860</td>\n",
              "    </tr>\n",
              "    <tr>\n",
              "      <th>std</th>\n",
              "      <td>250.120</td>\n",
              "      <td>47488.146</td>\n",
              "    </tr>\n",
              "    <tr>\n",
              "      <th>min</th>\n",
              "      <td>0.000</td>\n",
              "      <td>0.000</td>\n",
              "    </tr>\n",
              "    <tr>\n",
              "      <th>25%</th>\n",
              "      <td>5.600</td>\n",
              "      <td>54201.500</td>\n",
              "    </tr>\n",
              "    <tr>\n",
              "      <th>50%</th>\n",
              "      <td>22.000</td>\n",
              "      <td>84692.000</td>\n",
              "    </tr>\n",
              "    <tr>\n",
              "      <th>75%</th>\n",
              "      <td>77.165</td>\n",
              "      <td>139320.500</td>\n",
              "    </tr>\n",
              "    <tr>\n",
              "      <th>max</th>\n",
              "      <td>25691.160</td>\n",
              "      <td>172792.000</td>\n",
              "    </tr>\n",
              "  </tbody>\n",
              "</table>\n",
              "</div>\n",
              "      <button class=\"colab-df-convert\" onclick=\"convertToInteractive('df-a8ea9b17-105e-41b4-a3db-d060b8e455dc')\"\n",
              "              title=\"Convert this dataframe to an interactive table.\"\n",
              "              style=\"display:none;\">\n",
              "        \n",
              "  <svg xmlns=\"http://www.w3.org/2000/svg\" height=\"24px\"viewBox=\"0 0 24 24\"\n",
              "       width=\"24px\">\n",
              "    <path d=\"M0 0h24v24H0V0z\" fill=\"none\"/>\n",
              "    <path d=\"M18.56 5.44l.94 2.06.94-2.06 2.06-.94-2.06-.94-.94-2.06-.94 2.06-2.06.94zm-11 1L8.5 8.5l.94-2.06 2.06-.94-2.06-.94L8.5 2.5l-.94 2.06-2.06.94zm10 10l.94 2.06.94-2.06 2.06-.94-2.06-.94-.94-2.06-.94 2.06-2.06.94z\"/><path d=\"M17.41 7.96l-1.37-1.37c-.4-.4-.92-.59-1.43-.59-.52 0-1.04.2-1.43.59L10.3 9.45l-7.72 7.72c-.78.78-.78 2.05 0 2.83L4 21.41c.39.39.9.59 1.41.59.51 0 1.02-.2 1.41-.59l7.78-7.78 2.81-2.81c.8-.78.8-2.07 0-2.86zM5.41 20L4 18.59l7.72-7.72 1.47 1.35L5.41 20z\"/>\n",
              "  </svg>\n",
              "      </button>\n",
              "      \n",
              "  <style>\n",
              "    .colab-df-container {\n",
              "      display:flex;\n",
              "      flex-wrap:wrap;\n",
              "      gap: 12px;\n",
              "    }\n",
              "\n",
              "    .colab-df-convert {\n",
              "      background-color: #E8F0FE;\n",
              "      border: none;\n",
              "      border-radius: 50%;\n",
              "      cursor: pointer;\n",
              "      display: none;\n",
              "      fill: #1967D2;\n",
              "      height: 32px;\n",
              "      padding: 0 0 0 0;\n",
              "      width: 32px;\n",
              "    }\n",
              "\n",
              "    .colab-df-convert:hover {\n",
              "      background-color: #E2EBFA;\n",
              "      box-shadow: 0px 1px 2px rgba(60, 64, 67, 0.3), 0px 1px 3px 1px rgba(60, 64, 67, 0.15);\n",
              "      fill: #174EA6;\n",
              "    }\n",
              "\n",
              "    [theme=dark] .colab-df-convert {\n",
              "      background-color: #3B4455;\n",
              "      fill: #D2E3FC;\n",
              "    }\n",
              "\n",
              "    [theme=dark] .colab-df-convert:hover {\n",
              "      background-color: #434B5C;\n",
              "      box-shadow: 0px 1px 3px 1px rgba(0, 0, 0, 0.15);\n",
              "      filter: drop-shadow(0px 1px 2px rgba(0, 0, 0, 0.3));\n",
              "      fill: #FFFFFF;\n",
              "    }\n",
              "  </style>\n",
              "\n",
              "      <script>\n",
              "        const buttonEl =\n",
              "          document.querySelector('#df-a8ea9b17-105e-41b4-a3db-d060b8e455dc button.colab-df-convert');\n",
              "        buttonEl.style.display =\n",
              "          google.colab.kernel.accessAllowed ? 'block' : 'none';\n",
              "\n",
              "        async function convertToInteractive(key) {\n",
              "          const element = document.querySelector('#df-a8ea9b17-105e-41b4-a3db-d060b8e455dc');\n",
              "          const dataTable =\n",
              "            await google.colab.kernel.invokeFunction('convertToInteractive',\n",
              "                                                     [key], {});\n",
              "          if (!dataTable) return;\n",
              "\n",
              "          const docLinkHtml = 'Like what you see? Visit the ' +\n",
              "            '<a target=\"_blank\" href=https://colab.research.google.com/notebooks/data_table.ipynb>data table notebook</a>'\n",
              "            + ' to learn more about interactive tables.';\n",
              "          element.innerHTML = '';\n",
              "          dataTable['output_type'] = 'display_data';\n",
              "          await google.colab.output.renderOutput(dataTable, element);\n",
              "          const docLink = document.createElement('div');\n",
              "          docLink.innerHTML = docLinkHtml;\n",
              "          element.appendChild(docLink);\n",
              "        }\n",
              "      </script>\n",
              "    </div>\n",
              "  </div>\n",
              "  "
            ]
          },
          "metadata": {},
          "execution_count": 141
        }
      ],
      "source": [
        "df[[\"Amount\", \"Time\"]].describe()"
      ]
    },
    {
      "cell_type": "markdown",
      "source": [
        "Time and amount should be scaled as the other attibutes."
      ],
      "metadata": {
        "id": "YPRwcwYLHQZS"
      }
    },
    {
      "cell_type": "markdown",
      "metadata": {
        "id": "OARWCPUbtLhr"
      },
      "source": [
        "## Normalize the data set using Min-Max Scaling:"
      ]
    },
    {
      "cell_type": "code",
      "execution_count": 142,
      "metadata": {
        "id": "38Tfe93g-tmC"
      },
      "outputs": [],
      "source": [
        "from sklearn import preprocessing\n",
        "from sklearn.preprocessing import MinMaxScaler\n",
        "scaler = MinMaxScaler()"
      ]
    },
    {
      "cell_type": "code",
      "execution_count": 143,
      "metadata": {
        "id": "Tt2ozi8d-xFu"
      },
      "outputs": [],
      "source": [
        "df['scaled_amount'] = scaler.fit_transform(df['Amount'].values.reshape(-1,1))\n",
        "df['scaled_time'] = scaler.fit_transform(df['Time'].values.reshape(-1,1))"
      ]
    },
    {
      "cell_type": "code",
      "execution_count": 144,
      "metadata": {
        "id": "IZwWdC9G--DB"
      },
      "outputs": [],
      "source": [
        "df.drop(['Time','Amount'], axis=1, inplace=True)"
      ]
    },
    {
      "cell_type": "code",
      "execution_count": 145,
      "metadata": {
        "colab": {
          "base_uri": "https://localhost:8080/",
          "height": 300
        },
        "id": "Pg58WCpX_Kxu",
        "outputId": "eeed56ed-62c4-4e73-b949-55f5e10f305a"
      },
      "outputs": [
        {
          "output_type": "execute_result",
          "data": {
            "text/plain": [
              "      V1     V2    V3     V4     V5     V6     V7     V8     V9    V10  ...  \\\n",
              "0 -1.360 -0.073 2.536  1.378 -0.338  0.462  0.240  0.099  0.364  0.091  ...   \n",
              "1  1.192  0.266 0.166  0.448  0.060 -0.082 -0.079  0.085 -0.255 -0.167  ...   \n",
              "2 -1.358 -1.340 1.773  0.380 -0.503  1.800  0.791  0.248 -1.515  0.208  ...   \n",
              "3 -0.966 -0.185 1.793 -0.863 -0.010  1.247  0.238  0.377 -1.387 -0.055  ...   \n",
              "4 -1.158  0.878 1.549  0.403 -0.407  0.096  0.593 -0.271  0.818  0.753  ...   \n",
              "\n",
              "     V22    V23    V24    V25    V26    V27    V28  Class  scaled_amount  \\\n",
              "0  0.278 -0.110  0.067  0.129 -0.189  0.134 -0.021      0          0.006   \n",
              "1 -0.639  0.101 -0.340  0.167  0.126 -0.009  0.015      0          0.000   \n",
              "2  0.772  0.909 -0.689 -0.328 -0.139 -0.055 -0.060      0          0.015   \n",
              "3  0.005 -0.190 -1.176  0.647 -0.222  0.063  0.061      0          0.005   \n",
              "4  0.798 -0.137  0.141 -0.206  0.502  0.219  0.215      0          0.003   \n",
              "\n",
              "   scaled_time  \n",
              "0        0.000  \n",
              "1        0.000  \n",
              "2        0.000  \n",
              "3        0.000  \n",
              "4        0.000  \n",
              "\n",
              "[5 rows x 31 columns]"
            ],
            "text/html": [
              "\n",
              "  <div id=\"df-af39e914-75ad-40d7-929c-de1d426d5fd7\">\n",
              "    <div class=\"colab-df-container\">\n",
              "      <div>\n",
              "<style scoped>\n",
              "    .dataframe tbody tr th:only-of-type {\n",
              "        vertical-align: middle;\n",
              "    }\n",
              "\n",
              "    .dataframe tbody tr th {\n",
              "        vertical-align: top;\n",
              "    }\n",
              "\n",
              "    .dataframe thead th {\n",
              "        text-align: right;\n",
              "    }\n",
              "</style>\n",
              "<table border=\"1\" class=\"dataframe\">\n",
              "  <thead>\n",
              "    <tr style=\"text-align: right;\">\n",
              "      <th></th>\n",
              "      <th>V1</th>\n",
              "      <th>V2</th>\n",
              "      <th>V3</th>\n",
              "      <th>V4</th>\n",
              "      <th>V5</th>\n",
              "      <th>V6</th>\n",
              "      <th>V7</th>\n",
              "      <th>V8</th>\n",
              "      <th>V9</th>\n",
              "      <th>V10</th>\n",
              "      <th>...</th>\n",
              "      <th>V22</th>\n",
              "      <th>V23</th>\n",
              "      <th>V24</th>\n",
              "      <th>V25</th>\n",
              "      <th>V26</th>\n",
              "      <th>V27</th>\n",
              "      <th>V28</th>\n",
              "      <th>Class</th>\n",
              "      <th>scaled_amount</th>\n",
              "      <th>scaled_time</th>\n",
              "    </tr>\n",
              "  </thead>\n",
              "  <tbody>\n",
              "    <tr>\n",
              "      <th>0</th>\n",
              "      <td>-1.360</td>\n",
              "      <td>-0.073</td>\n",
              "      <td>2.536</td>\n",
              "      <td>1.378</td>\n",
              "      <td>-0.338</td>\n",
              "      <td>0.462</td>\n",
              "      <td>0.240</td>\n",
              "      <td>0.099</td>\n",
              "      <td>0.364</td>\n",
              "      <td>0.091</td>\n",
              "      <td>...</td>\n",
              "      <td>0.278</td>\n",
              "      <td>-0.110</td>\n",
              "      <td>0.067</td>\n",
              "      <td>0.129</td>\n",
              "      <td>-0.189</td>\n",
              "      <td>0.134</td>\n",
              "      <td>-0.021</td>\n",
              "      <td>0</td>\n",
              "      <td>0.006</td>\n",
              "      <td>0.000</td>\n",
              "    </tr>\n",
              "    <tr>\n",
              "      <th>1</th>\n",
              "      <td>1.192</td>\n",
              "      <td>0.266</td>\n",
              "      <td>0.166</td>\n",
              "      <td>0.448</td>\n",
              "      <td>0.060</td>\n",
              "      <td>-0.082</td>\n",
              "      <td>-0.079</td>\n",
              "      <td>0.085</td>\n",
              "      <td>-0.255</td>\n",
              "      <td>-0.167</td>\n",
              "      <td>...</td>\n",
              "      <td>-0.639</td>\n",
              "      <td>0.101</td>\n",
              "      <td>-0.340</td>\n",
              "      <td>0.167</td>\n",
              "      <td>0.126</td>\n",
              "      <td>-0.009</td>\n",
              "      <td>0.015</td>\n",
              "      <td>0</td>\n",
              "      <td>0.000</td>\n",
              "      <td>0.000</td>\n",
              "    </tr>\n",
              "    <tr>\n",
              "      <th>2</th>\n",
              "      <td>-1.358</td>\n",
              "      <td>-1.340</td>\n",
              "      <td>1.773</td>\n",
              "      <td>0.380</td>\n",
              "      <td>-0.503</td>\n",
              "      <td>1.800</td>\n",
              "      <td>0.791</td>\n",
              "      <td>0.248</td>\n",
              "      <td>-1.515</td>\n",
              "      <td>0.208</td>\n",
              "      <td>...</td>\n",
              "      <td>0.772</td>\n",
              "      <td>0.909</td>\n",
              "      <td>-0.689</td>\n",
              "      <td>-0.328</td>\n",
              "      <td>-0.139</td>\n",
              "      <td>-0.055</td>\n",
              "      <td>-0.060</td>\n",
              "      <td>0</td>\n",
              "      <td>0.015</td>\n",
              "      <td>0.000</td>\n",
              "    </tr>\n",
              "    <tr>\n",
              "      <th>3</th>\n",
              "      <td>-0.966</td>\n",
              "      <td>-0.185</td>\n",
              "      <td>1.793</td>\n",
              "      <td>-0.863</td>\n",
              "      <td>-0.010</td>\n",
              "      <td>1.247</td>\n",
              "      <td>0.238</td>\n",
              "      <td>0.377</td>\n",
              "      <td>-1.387</td>\n",
              "      <td>-0.055</td>\n",
              "      <td>...</td>\n",
              "      <td>0.005</td>\n",
              "      <td>-0.190</td>\n",
              "      <td>-1.176</td>\n",
              "      <td>0.647</td>\n",
              "      <td>-0.222</td>\n",
              "      <td>0.063</td>\n",
              "      <td>0.061</td>\n",
              "      <td>0</td>\n",
              "      <td>0.005</td>\n",
              "      <td>0.000</td>\n",
              "    </tr>\n",
              "    <tr>\n",
              "      <th>4</th>\n",
              "      <td>-1.158</td>\n",
              "      <td>0.878</td>\n",
              "      <td>1.549</td>\n",
              "      <td>0.403</td>\n",
              "      <td>-0.407</td>\n",
              "      <td>0.096</td>\n",
              "      <td>0.593</td>\n",
              "      <td>-0.271</td>\n",
              "      <td>0.818</td>\n",
              "      <td>0.753</td>\n",
              "      <td>...</td>\n",
              "      <td>0.798</td>\n",
              "      <td>-0.137</td>\n",
              "      <td>0.141</td>\n",
              "      <td>-0.206</td>\n",
              "      <td>0.502</td>\n",
              "      <td>0.219</td>\n",
              "      <td>0.215</td>\n",
              "      <td>0</td>\n",
              "      <td>0.003</td>\n",
              "      <td>0.000</td>\n",
              "    </tr>\n",
              "  </tbody>\n",
              "</table>\n",
              "<p>5 rows × 31 columns</p>\n",
              "</div>\n",
              "      <button class=\"colab-df-convert\" onclick=\"convertToInteractive('df-af39e914-75ad-40d7-929c-de1d426d5fd7')\"\n",
              "              title=\"Convert this dataframe to an interactive table.\"\n",
              "              style=\"display:none;\">\n",
              "        \n",
              "  <svg xmlns=\"http://www.w3.org/2000/svg\" height=\"24px\"viewBox=\"0 0 24 24\"\n",
              "       width=\"24px\">\n",
              "    <path d=\"M0 0h24v24H0V0z\" fill=\"none\"/>\n",
              "    <path d=\"M18.56 5.44l.94 2.06.94-2.06 2.06-.94-2.06-.94-.94-2.06-.94 2.06-2.06.94zm-11 1L8.5 8.5l.94-2.06 2.06-.94-2.06-.94L8.5 2.5l-.94 2.06-2.06.94zm10 10l.94 2.06.94-2.06 2.06-.94-2.06-.94-.94-2.06-.94 2.06-2.06.94z\"/><path d=\"M17.41 7.96l-1.37-1.37c-.4-.4-.92-.59-1.43-.59-.52 0-1.04.2-1.43.59L10.3 9.45l-7.72 7.72c-.78.78-.78 2.05 0 2.83L4 21.41c.39.39.9.59 1.41.59.51 0 1.02-.2 1.41-.59l7.78-7.78 2.81-2.81c.8-.78.8-2.07 0-2.86zM5.41 20L4 18.59l7.72-7.72 1.47 1.35L5.41 20z\"/>\n",
              "  </svg>\n",
              "      </button>\n",
              "      \n",
              "  <style>\n",
              "    .colab-df-container {\n",
              "      display:flex;\n",
              "      flex-wrap:wrap;\n",
              "      gap: 12px;\n",
              "    }\n",
              "\n",
              "    .colab-df-convert {\n",
              "      background-color: #E8F0FE;\n",
              "      border: none;\n",
              "      border-radius: 50%;\n",
              "      cursor: pointer;\n",
              "      display: none;\n",
              "      fill: #1967D2;\n",
              "      height: 32px;\n",
              "      padding: 0 0 0 0;\n",
              "      width: 32px;\n",
              "    }\n",
              "\n",
              "    .colab-df-convert:hover {\n",
              "      background-color: #E2EBFA;\n",
              "      box-shadow: 0px 1px 2px rgba(60, 64, 67, 0.3), 0px 1px 3px 1px rgba(60, 64, 67, 0.15);\n",
              "      fill: #174EA6;\n",
              "    }\n",
              "\n",
              "    [theme=dark] .colab-df-convert {\n",
              "      background-color: #3B4455;\n",
              "      fill: #D2E3FC;\n",
              "    }\n",
              "\n",
              "    [theme=dark] .colab-df-convert:hover {\n",
              "      background-color: #434B5C;\n",
              "      box-shadow: 0px 1px 3px 1px rgba(0, 0, 0, 0.15);\n",
              "      filter: drop-shadow(0px 1px 2px rgba(0, 0, 0, 0.3));\n",
              "      fill: #FFFFFF;\n",
              "    }\n",
              "  </style>\n",
              "\n",
              "      <script>\n",
              "        const buttonEl =\n",
              "          document.querySelector('#df-af39e914-75ad-40d7-929c-de1d426d5fd7 button.colab-df-convert');\n",
              "        buttonEl.style.display =\n",
              "          google.colab.kernel.accessAllowed ? 'block' : 'none';\n",
              "\n",
              "        async function convertToInteractive(key) {\n",
              "          const element = document.querySelector('#df-af39e914-75ad-40d7-929c-de1d426d5fd7');\n",
              "          const dataTable =\n",
              "            await google.colab.kernel.invokeFunction('convertToInteractive',\n",
              "                                                     [key], {});\n",
              "          if (!dataTable) return;\n",
              "\n",
              "          const docLinkHtml = 'Like what you see? Visit the ' +\n",
              "            '<a target=\"_blank\" href=https://colab.research.google.com/notebooks/data_table.ipynb>data table notebook</a>'\n",
              "            + ' to learn more about interactive tables.';\n",
              "          element.innerHTML = '';\n",
              "          dataTable['output_type'] = 'display_data';\n",
              "          await google.colab.output.renderOutput(dataTable, element);\n",
              "          const docLink = document.createElement('div');\n",
              "          docLink.innerHTML = docLinkHtml;\n",
              "          element.appendChild(docLink);\n",
              "        }\n",
              "      </script>\n",
              "    </div>\n",
              "  </div>\n",
              "  "
            ]
          },
          "metadata": {},
          "execution_count": 145
        }
      ],
      "source": [
        "df.head()"
      ]
    },
    {
      "cell_type": "markdown",
      "metadata": {
        "id": "dTH34MoK3hau"
      },
      "source": [
        "Card transaction datasets usually contain mostly normal transactions and just a small fraction of fraudulent ones, our expectation is that the dataset will be highly unbalanced. We can confirm this by checking the distribution of the target classes."
      ]
    },
    {
      "cell_type": "code",
      "execution_count": 146,
      "metadata": {
        "colab": {
          "base_uri": "https://localhost:8080/"
        },
        "id": "MlEibENABBgA",
        "outputId": "d77a6b2a-806b-468c-e6cd-b4ef4a027307"
      },
      "outputs": [
        {
          "output_type": "execute_result",
          "data": {
            "text/plain": [
              "0    284315\n",
              "1       492\n",
              "Name: Class, dtype: int64"
            ]
          },
          "metadata": {},
          "execution_count": 146
        }
      ],
      "source": [
        "df.Class.value_counts()"
      ]
    },
    {
      "cell_type": "markdown",
      "source": [
        "There are only 492 cases of fraud in our dataset. It's a minority part compared to the total 284807 records."
      ],
      "metadata": {
        "id": "X1x-z-KoHbnE"
      }
    },
    {
      "cell_type": "code",
      "execution_count": 147,
      "metadata": {
        "colab": {
          "base_uri": "https://localhost:8080/",
          "height": 453
        },
        "id": "ymnlka0UbvhB",
        "outputId": "03633fca-e9ee-49e7-8a8f-a09e718f5b03"
      },
      "outputs": [
        {
          "output_type": "execute_result",
          "data": {
            "text/plain": [
              "([<matplotlib.patches.Wedge at 0x7f5c56f3b8d0>,\n",
              "  <matplotlib.patches.Wedge at 0x7f5c56f54490>],\n",
              " [Text(0.006512435617337905, -1.1999823282791835, 'Fraud'),\n",
              "  Text(-0.005969815120018589, 1.0999838004750038, 'Non fraud')],\n",
              " [Text(0.003798920776780444, -0.6999896914961904, '0.17%'),\n",
              "  Text(-0.0032562627927374115, 0.5999911638954565, '99.83%')])"
            ]
          },
          "metadata": {},
          "execution_count": 147
        },
        {
          "output_type": "execute_result",
          "data": {
            "text/plain": [
              "(-1.100421353274075,\n",
              " 1.1011033149139349,\n",
              " -1.2050332894780822,\n",
              " 1.105731477194558)"
            ]
          },
          "metadata": {},
          "execution_count": 147
        },
        {
          "output_type": "execute_result",
          "data": {
            "text/plain": [
              "Text(0.5, 1.0, 'Distribution of Class ')"
            ]
          },
          "metadata": {},
          "execution_count": 147
        },
        {
          "output_type": "execute_result",
          "data": {
            "text/plain": [
              "<matplotlib.legend.Legend at 0x7f5c56ffa410>"
            ]
          },
          "metadata": {},
          "execution_count": 147
        },
        {
          "output_type": "display_data",
          "data": {
            "text/plain": [
              "<Figure size 432x288 with 1 Axes>"
            ],
            "image/png": "[encoded data removed]"
          },
          "metadata": {}
        }
      ],
      "source": [
        "# Plotting pie chart for percentage of Class attribute\n",
        "Fraud = df.Class[df[\"Class\"]==1].count()\n",
        "Non_fraud = df.Class[df['Class']==0].count()\n",
        "labels = ['Fraud', 'Non fraud']\n",
        "slices = [Fraud, Non_fraud]\n",
        "explode = [0.1, 0]\n",
        "plt.pie(slices, labels=labels, explode=explode, shadow=True,\n",
        "startangle= -90, autopct='%1.2f%%',\n",
        "wedgeprops={'edgecolor': 'black'})\n",
        "plt.axis('equal') \n",
        "plt.title(\"Distribution of Class \")\n",
        "plt.legend()\n",
        "plt.tight_layout()\n",
        "plt.show()"
      ]
    },
    {
      "cell_type": "markdown",
      "metadata": {
        "id": "mnsoCnyjdIBg"
      },
      "source": [
        "As expected, the majority of the samples are legitimate transactions. Only 0.17% of the transactions are flagged as fraudulent.It is a very unbalanced data set."
      ]
    },
    {
      "cell_type": "code",
      "execution_count": 148,
      "metadata": {
        "id": "7vr-JxPdr7Ow"
      },
      "outputs": [],
      "source": [
        "# Separation of input variables from target variable\n",
        "X = df.drop('Class', axis=1)\n",
        "y = df['Class']"
      ]
    },
    {
      "cell_type": "markdown",
      "metadata": {
        "id": "qrCLr1DJvXkr"
      },
      "source": [
        "## Train Test Split"
      ]
    },
    {
      "cell_type": "markdown",
      "source": [
        "In this method, the entire data set is randomly partitioned into training and test sets. I divided the\n",
        "information into two parts (training and test sets). The Training set contains 80% of the records\n",
        "in the data set, whereas the Test set contains 20% of the data set’s observations."
      ],
      "metadata": {
        "id": "rj09cnNueMdS"
      }
    },
    {
      "cell_type": "code",
      "execution_count": 149,
      "metadata": {
        "id": "1D5kx6W7vS0L"
      },
      "outputs": [],
      "source": [
        "from sklearn.model_selection import train_test_split"
      ]
    },
    {
      "cell_type": "code",
      "execution_count": 150,
      "metadata": {
        "id": "YaeCWvQHvk_j"
      },
      "outputs": [],
      "source": [
        "# Divide the dataset to training and test sets\n",
        "X_train, X_test, y_train, y_test = train_test_split(X,y, test_size=0.3,random_state=3)"
      ]
    },
    {
      "cell_type": "markdown",
      "source": [
        "## SMOTE - Synthetic Minority Oversampling Technique"
      ],
      "metadata": {
        "id": "67U55-gr_jdd"
      }
    },
    {
      "cell_type": "code",
      "source": [
        "!pip install imblearn"
      ],
      "metadata": {
        "colab": {
          "base_uri": "https://localhost:8080/"
        },
        "id": "bCEhvnsU_mMX",
        "outputId": "f9dbc9b4-c8c3-43a3-fad2-52c7b3b85246"
      },
      "execution_count": 151,
      "outputs": [
        {
          "output_type": "stream",
          "name": "stdout",
          "text": [
            "Requirement already satisfied: imblearn in /usr/local/lib/python3.7/dist-packages (0.0)\n",
            "Requirement already satisfied: imbalanced-learn in /usr/local/lib/python3.7/dist-packages (from imblearn) (0.8.1)\n",
            "Requirement already satisfied: scipy>=0.19.1 in /usr/local/lib/python3.7/dist-packages (from imbalanced-learn->imblearn) (1.4.1)\n",
            "Requirement already satisfied: joblib>=0.11 in /usr/local/lib/python3.7/dist-packages (from imbalanced-learn->imblearn) (1.1.0)\n",
            "Requirement already satisfied: numpy>=1.13.3 in /usr/local/lib/python3.7/dist-packages (from imbalanced-learn->imblearn) (1.21.5)\n",
            "Requirement already satisfied: scikit-learn>=0.24 in /usr/local/lib/python3.7/dist-packages (from imbalanced-learn->imblearn) (1.0.2)\n",
            "Requirement already satisfied: threadpoolctl>=2.0.0 in /usr/local/lib/python3.7/dist-packages (from scikit-learn>=0.24->imbalanced-learn->imblearn) (3.1.0)\n"
          ]
        }
      ]
    },
    {
      "cell_type": "code",
      "source": [
        "from imblearn.over_sampling import SMOTE\n",
        "oversample = SMOTE()"
      ],
      "metadata": {
        "id": "1rG6lE2U_mis"
      },
      "execution_count": 152,
      "outputs": []
    },
    {
      "cell_type": "code",
      "source": [
        "X, y = oversample.fit_resample(X_train,y_train)\n",
        "y = pd.Series(y)\n",
        "y.value_counts()"
      ],
      "metadata": {
        "colab": {
          "base_uri": "https://localhost:8080/"
        },
        "id": "IGL3MqNK91Vc",
        "outputId": "93c1653a-d747-40d2-be46-a126974c98ea"
      },
      "execution_count": 153,
      "outputs": [
        {
          "output_type": "execute_result",
          "data": {
            "text/plain": [
              "0    199024\n",
              "1    199024\n",
              "Name: Class, dtype: int64"
            ]
          },
          "metadata": {},
          "execution_count": 153
        }
      ]
    },
    {
      "cell_type": "code",
      "execution_count": 154,
      "metadata": {
        "id": "W-75PUc2w1Cv"
      },
      "outputs": [],
      "source": [
        "from sklearn.metrics import classification_report,confusion_matrix,accuracy_score\n",
        "from sklearn import metrics"
      ]
    },
    {
      "cell_type": "markdown",
      "source": [
        "Modeling with XGBoost"
      ],
      "metadata": {
        "id": "sJ8ZYPHCeWab"
      }
    },
    {
      "cell_type": "code",
      "execution_count": 155,
      "metadata": {
        "colab": {
          "base_uri": "https://localhost:8080/"
        },
        "id": "3vWmcbf3BxhJ",
        "outputId": "59ffdfed-05e7-4089-9407-79c8f957232f"
      },
      "outputs": [
        {
          "output_type": "stream",
          "name": "stdout",
          "text": [
            "accuracy of XGB : 99.95201479348805\n"
          ]
        }
      ],
      "source": [
        "import xgboost as xgb\n",
        "from xgboost import XGBClassifier\n",
        "xg = XGBClassifier()\n",
        "XGB=xg.fit(X_train,y_train)\n",
        "pred_xg=xg.predict(X_test)\n",
        "xg_acc = accuracy_score(y_test,pred_xg)*100\n",
        "print(\"accuracy of XGB :\", xg_acc)"
      ]
    },
    {
      "cell_type": "markdown",
      "source": [
        "Modeling with Random Forest Classifier"
      ],
      "metadata": {
        "id": "F6Q5EcCweg-c"
      }
    },
    {
      "cell_type": "code",
      "execution_count": 156,
      "metadata": {
        "colab": {
          "base_uri": "https://localhost:8080/"
        },
        "id": "aTT4AQRoCjjr",
        "outputId": "bb7d7a42-3179-4f50-e53a-91befa7a70e7"
      },
      "outputs": [
        {
          "output_type": "stream",
          "name": "stdout",
          "text": [
            "accuracy of Random Forest : 99.95201479348805\n"
          ]
        }
      ],
      "source": [
        "from sklearn.ensemble import RandomForestClassifier\n",
        "model=RandomForestClassifier(n_estimators=20)\n",
        "RFC=model.fit(X_train,y_train)\n",
        "RFC_predicted=RFC.predict(X_test)\n",
        "RFC_acc = accuracy_score(y_test,RFC_predicted)*100\n",
        "print(\"accuracy of Random Forest :\", RFC_acc)"
      ]
    },
    {
      "cell_type": "markdown",
      "source": [
        "Modeling with Logistic Regression"
      ],
      "metadata": {
        "id": "EBUzTtU0egTs"
      }
    },
    {
      "cell_type": "code",
      "execution_count": 157,
      "metadata": {
        "colab": {
          "base_uri": "https://localhost:8080/"
        },
        "id": "GPWwvreCDd09",
        "outputId": "641570b4-6ebf-4067-9850-f2717b6a6c2a"
      },
      "outputs": [
        {
          "output_type": "execute_result",
          "data": {
            "text/plain": [
              "LogisticRegression()"
            ]
          },
          "metadata": {},
          "execution_count": 157
        },
        {
          "output_type": "stream",
          "name": "stdout",
          "text": [
            "accuracy of Logistic Regression : 99.91807403766254\n"
          ]
        }
      ],
      "source": [
        "from sklearn.linear_model import LogisticRegression\n",
        "model=LogisticRegression()\n",
        "model.fit(X_train,y_train)\n",
        "predict_logistic=model.predict(X_test)\n",
        "cf_matrix_logistic = confusion_matrix(y_test,predict_logistic)\n",
        "logistic_acc = accuracy_score(y_test,predict_logistic)*100\n",
        "print(\"accuracy of Logistic Regression :\", logistic_acc)"
      ]
    },
    {
      "cell_type": "markdown",
      "source": [
        "Modeling with KNN algorithm"
      ],
      "metadata": {
        "id": "ZhGWt3TgeefY"
      }
    },
    {
      "cell_type": "code",
      "execution_count": 158,
      "metadata": {
        "colab": {
          "base_uri": "https://localhost:8080/"
        },
        "id": "TeF-2sB0Eb4y",
        "outputId": "01472623-f59f-4ab6-ae36-4e98fcd4103d"
      },
      "outputs": [
        {
          "output_type": "execute_result",
          "data": {
            "text/plain": [
              "KNeighborsClassifier()"
            ]
          },
          "metadata": {},
          "execution_count": 158
        },
        {
          "output_type": "stream",
          "name": "stdout",
          "text": [
            "accuracy of KNN : 99.94616293903537\n"
          ]
        }
      ],
      "source": [
        "from sklearn.neighbors import KNeighborsClassifier\n",
        "knn=KNeighborsClassifier()\n",
        "knn.fit(X_train,y_train)\n",
        "pred_k=knn.predict(X_test)\n",
        "knn_acc = accuracy_score(y_test,pred_k)*100\n",
        "print(\"accuracy of KNN :\", knn_acc)"
      ]
    },
    {
      "cell_type": "markdown",
      "source": [
        "Modeling with Gaussian Naive Bayes classifier"
      ],
      "metadata": {
        "id": "D-munvZsesSB"
      }
    },
    {
      "cell_type": "code",
      "execution_count": 159,
      "metadata": {
        "colab": {
          "base_uri": "https://localhost:8080/"
        },
        "id": "xOkH8ivHEhHI",
        "outputId": "e797e2bd-ad72-475f-d3dc-7611cf1d11cb"
      },
      "outputs": [
        {
          "output_type": "stream",
          "name": "stdout",
          "text": [
            "accuracy of Gaussian Naive Bayes : 97.7365026977049\n"
          ]
        }
      ],
      "source": [
        "from sklearn.naive_bayes import GaussianNB\n",
        "model = GaussianNB()\n",
        "gnb=model.fit(X_train, y_train)\n",
        "gnb_predict=gnb.predict(X_test)\n",
        "gnb_acc = accuracy_score(y_test,gnb_predict)*100\n",
        "print(\"accuracy of Gaussian Naive Bayes :\", gnb_acc)"
      ]
    },
    {
      "cell_type": "markdown",
      "metadata": {
        "id": "3KMcZc5UE0M3"
      },
      "source": [
        "## Comparing Accuracies & Cross validation"
      ]
    },
    {
      "cell_type": "code",
      "execution_count": 160,
      "metadata": {
        "colab": {
          "base_uri": "https://localhost:8080/",
          "height": 206
        },
        "id": "Nv5DxwjWEu5y",
        "outputId": "537223f0-6e9e-410e-a85c-cb2a8dc3c98c"
      },
      "outputs": [
        {
          "output_type": "execute_result",
          "data": {
            "text/plain": [
              "                 Model  train_test_split\n",
              "0              XGBoost            99.952\n",
              "1        Random Forest            99.952\n",
              "2  Logistic Regression            99.918\n",
              "3                  KNN            99.946\n",
              "4          Naive Bayes            97.737"
            ],
            "text/html": [
              "\n",
              "  <div id=\"df-e58cb8ec-84a9-4a45-ab5e-82efa242606f\">\n",
              "    <div class=\"colab-df-container\">\n",
              "      <div>\n",
              "<style scoped>\n",
              "    .dataframe tbody tr th:only-of-type {\n",
              "        vertical-align: middle;\n",
              "    }\n",
              "\n",
              "    .dataframe tbody tr th {\n",
              "        vertical-align: top;\n",
              "    }\n",
              "\n",
              "    .dataframe thead th {\n",
              "        text-align: right;\n",
              "    }\n",
              "</style>\n",
              "<table border=\"1\" class=\"dataframe\">\n",
              "  <thead>\n",
              "    <tr style=\"text-align: right;\">\n",
              "      <th></th>\n",
              "      <th>Model</th>\n",
              "      <th>train_test_split</th>\n",
              "    </tr>\n",
              "  </thead>\n",
              "  <tbody>\n",
              "    <tr>\n",
              "      <th>0</th>\n",
              "      <td>XGBoost</td>\n",
              "      <td>99.952</td>\n",
              "    </tr>\n",
              "    <tr>\n",
              "      <th>1</th>\n",
              "      <td>Random Forest</td>\n",
              "      <td>99.952</td>\n",
              "    </tr>\n",
              "    <tr>\n",
              "      <th>2</th>\n",
              "      <td>Logistic Regression</td>\n",
              "      <td>99.918</td>\n",
              "    </tr>\n",
              "    <tr>\n",
              "      <th>3</th>\n",
              "      <td>KNN</td>\n",
              "      <td>99.946</td>\n",
              "    </tr>\n",
              "    <tr>\n",
              "      <th>4</th>\n",
              "      <td>Naive Bayes</td>\n",
              "      <td>97.737</td>\n",
              "    </tr>\n",
              "  </tbody>\n",
              "</table>\n",
              "</div>\n",
              "      <button class=\"colab-df-convert\" onclick=\"convertToInteractive('df-e58cb8ec-84a9-4a45-ab5e-82efa242606f')\"\n",
              "              title=\"Convert this dataframe to an interactive table.\"\n",
              "              style=\"display:none;\">\n",
              "        \n",
              "  <svg xmlns=\"http://www.w3.org/2000/svg\" height=\"24px\"viewBox=\"0 0 24 24\"\n",
              "       width=\"24px\">\n",
              "    <path d=\"M0 0h24v24H0V0z\" fill=\"none\"/>\n",
              "    <path d=\"M18.56 5.44l.94 2.06.94-2.06 2.06-.94-2.06-.94-.94-2.06-.94 2.06-2.06.94zm-11 1L8.5 8.5l.94-2.06 2.06-.94-2.06-.94L8.5 2.5l-.94 2.06-2.06.94zm10 10l.94 2.06.94-2.06 2.06-.94-2.06-.94-.94-2.06-.94 2.06-2.06.94z\"/><path d=\"M17.41 7.96l-1.37-1.37c-.4-.4-.92-.59-1.43-.59-.52 0-1.04.2-1.43.59L10.3 9.45l-7.72 7.72c-.78.78-.78 2.05 0 2.83L4 21.41c.39.39.9.59 1.41.59.51 0 1.02-.2 1.41-.59l7.78-7.78 2.81-2.81c.8-.78.8-2.07 0-2.86zM5.41 20L4 18.59l7.72-7.72 1.47 1.35L5.41 20z\"/>\n",
              "  </svg>\n",
              "      </button>\n",
              "      \n",
              "  <style>\n",
              "    .colab-df-container {\n",
              "      display:flex;\n",
              "      flex-wrap:wrap;\n",
              "      gap: 12px;\n",
              "    }\n",
              "\n",
              "    .colab-df-convert {\n",
              "      background-color: #E8F0FE;\n",
              "      border: none;\n",
              "      border-radius: 50%;\n",
              "      cursor: pointer;\n",
              "      display: none;\n",
              "      fill: #1967D2;\n",
              "      height: 32px;\n",
              "      padding: 0 0 0 0;\n",
              "      width: 32px;\n",
              "    }\n",
              "\n",
              "    .colab-df-convert:hover {\n",
              "      background-color: #E2EBFA;\n",
              "      box-shadow: 0px 1px 2px rgba(60, 64, 67, 0.3), 0px 1px 3px 1px rgba(60, 64, 67, 0.15);\n",
              "      fill: #174EA6;\n",
              "    }\n",
              "\n",
              "    [theme=dark] .colab-df-convert {\n",
              "      background-color: #3B4455;\n",
              "      fill: #D2E3FC;\n",
              "    }\n",
              "\n",
              "    [theme=dark] .colab-df-convert:hover {\n",
              "      background-color: #434B5C;\n",
              "      box-shadow: 0px 1px 3px 1px rgba(0, 0, 0, 0.15);\n",
              "      filter: drop-shadow(0px 1px 2px rgba(0, 0, 0, 0.3));\n",
              "      fill: #FFFFFF;\n",
              "    }\n",
              "  </style>\n",
              "\n",
              "      <script>\n",
              "        const buttonEl =\n",
              "          document.querySelector('#df-e58cb8ec-84a9-4a45-ab5e-82efa242606f button.colab-df-convert');\n",
              "        buttonEl.style.display =\n",
              "          google.colab.kernel.accessAllowed ? 'block' : 'none';\n",
              "\n",
              "        async function convertToInteractive(key) {\n",
              "          const element = document.querySelector('#df-e58cb8ec-84a9-4a45-ab5e-82efa242606f');\n",
              "          const dataTable =\n",
              "            await google.colab.kernel.invokeFunction('convertToInteractive',\n",
              "                                                     [key], {});\n",
              "          if (!dataTable) return;\n",
              "\n",
              "          const docLinkHtml = 'Like what you see? Visit the ' +\n",
              "            '<a target=\"_blank\" href=https://colab.research.google.com/notebooks/data_table.ipynb>data table notebook</a>'\n",
              "            + ' to learn more about interactive tables.';\n",
              "          element.innerHTML = '';\n",
              "          dataTable['output_type'] = 'display_data';\n",
              "          await google.colab.output.renderOutput(dataTable, element);\n",
              "          const docLink = document.createElement('div');\n",
              "          docLink.innerHTML = docLinkHtml;\n",
              "          element.appendChild(docLink);\n",
              "        }\n",
              "      </script>\n",
              "    </div>\n",
              "  </div>\n",
              "  "
            ]
          },
          "metadata": {},
          "execution_count": 160
        }
      ],
      "source": [
        "labels = [ \"XGBoost\", \"Random Forest\", \"Logistic Regression\", \"KNN\", \"Naive Bayes\"]\n",
        "x = [xg_acc, RFC_acc, logistic_acc, knn_acc, gnb_acc]\n",
        "eval_frame = pd.DataFrame()\n",
        "eval_frame['Model'] = labels\n",
        "eval_frame['train_test_split'] = x\n",
        "eval_frame"
      ]
    },
    {
      "cell_type": "markdown",
      "source": [
        "### K-Folds Cross Validation:"
      ],
      "metadata": {
        "id": "cmEuXeT4d2m3"
      }
    },
    {
      "cell_type": "markdown",
      "source": [
        "The K-Folds method is used to minimize the bias of the model. Because each data record has a\n",
        "chance to appear in both the training and test data sets. The K-Folds method Divide the dataset\n",
        "into k-folds in a sequence. At random, I divided the data into five folds. The four folds are then\n",
        "used to fit the model, and the fifth fold is used to test it. Repeat until each fold has been used as\n",
        "a test set. Then add together all the results and calculate the average. That will be the model’s\n",
        "metric of success."
      ],
      "metadata": {
        "id": "hVELQzMpd2Ho"
      }
    },
    {
      "cell_type": "code",
      "source": [
        "from sklearn.model_selection import KFold"
      ],
      "metadata": {
        "id": "gXll3uiUOnHR"
      },
      "execution_count": 167,
      "outputs": []
    },
    {
      "cell_type": "code",
      "source": [
        "kfold = KFold(n_splits=5)"
      ],
      "metadata": {
        "id": "aIswVICfOx0v"
      },
      "execution_count": 168,
      "outputs": []
    },
    {
      "cell_type": "code",
      "source": [
        "# Modeling step Test differents algorithms\n",
        "classifiers1 = []"
      ],
      "metadata": {
        "id": "5fx_1WQ_O2fL"
      },
      "execution_count": 169,
      "outputs": []
    },
    {
      "cell_type": "code",
      "source": [
        "classifiers1.append(XGBClassifier())\n",
        "classifiers1.append(RandomForestClassifier())\n",
        "classifiers1.append(LogisticRegression())\n",
        "classifiers1.append(KNeighborsClassifier())\n",
        "classifiers1.append(GaussianNB())"
      ],
      "metadata": {
        "id": "7SG6rLZTO4hR"
      },
      "execution_count": 170,
      "outputs": []
    },
    {
      "cell_type": "code",
      "source": [
        "from sklearn.model_selection import cross_val_score"
      ],
      "metadata": {
        "id": "xeqcxC9JPUwU"
      },
      "execution_count": 171,
      "outputs": []
    },
    {
      "cell_type": "code",
      "source": [
        "accuracy_results1 = []\n",
        "for a in classifiers1 :\n",
        "  accuracy_results1.append(cross_val_score(a, X_train,y_train, scoring = \"accuracy\", cv = kfold))"
      ],
      "metadata": {
        "id": "KAVTXcxfPWnJ"
      },
      "execution_count": 172,
      "outputs": []
    },
    {
      "cell_type": "code",
      "source": [
        "accuracy_results1"
      ],
      "metadata": {
        "colab": {
          "base_uri": "https://localhost:8080/"
        },
        "id": "8KHqMWOjPfqW",
        "outputId": "56497425-80fd-4136-a382-025bceb6ca55"
      },
      "execution_count": 173,
      "outputs": [
        {
          "output_type": "execute_result",
          "data": {
            "text/plain": [
              "[array([0.99964889, 0.99952349, 0.99929777, 0.99947333, 0.99952348]),\n",
              " array([0.99957365, 0.99959873, 0.99942317, 0.99947333, 0.99949839]),\n",
              " array([0.99917237, 0.99937301, 0.99899681, 0.99924761, 0.99909711]),\n",
              " array([0.99954857, 0.99954857, 0.99937301, 0.99947333, 0.99929775]),\n",
              " array([0.97750357, 0.97690166, 0.97665087, 0.978582  , 0.97860654])]"
            ]
          },
          "metadata": {},
          "execution_count": 173
        }
      ]
    },
    {
      "cell_type": "code",
      "source": [
        "accuracy_means1 = []\n",
        "for e in accuracy_results1:\n",
        "  accuracy_means1.append(e.mean()*100)"
      ],
      "metadata": {
        "id": "t8kISgB6a2Hw"
      },
      "execution_count": 174,
      "outputs": []
    },
    {
      "cell_type": "code",
      "source": [
        "accuracy_means1"
      ],
      "metadata": {
        "colab": {
          "base_uri": "https://localhost:8080/"
        },
        "id": "PKcny3x1a45d",
        "outputId": "9b904e15-2b15-448b-c79f-bdbfab745a2f"
      },
      "execution_count": 175,
      "outputs": [
        {
          "output_type": "execute_result",
          "data": {
            "text/plain": [
              "[99.94933891278566,\n",
              " 99.95134527043105,\n",
              " 99.91773836787337,\n",
              " 99.94482446655773,\n",
              " 97.76489283803122]"
            ]
          },
          "metadata": {},
          "execution_count": 175
        }
      ]
    },
    {
      "cell_type": "code",
      "source": [
        "eval_frame[' kfold_5']=accuracy_means1\n",
        "eval_frame"
      ],
      "metadata": {
        "colab": {
          "base_uri": "https://localhost:8080/",
          "height": 206
        },
        "id": "JPU4jSIEbAMR",
        "outputId": "f0f2ff06-7aaa-41d0-c7b8-0233ef29559e"
      },
      "execution_count": 176,
      "outputs": [
        {
          "output_type": "execute_result",
          "data": {
            "text/plain": [
              "                 Model  train_test_split   kfold_5\n",
              "0              XGBoost            99.952    99.949\n",
              "1        Random Forest            99.952    99.951\n",
              "2  Logistic Regression            99.918    99.918\n",
              "3                  KNN            99.946    99.945\n",
              "4          Naive Bayes            97.737    97.765"
            ],
            "text/html": [
              "\n",
              "  <div id=\"df-89810da6-5d34-435d-88c9-563610d25755\">\n",
              "    <div class=\"colab-df-container\">\n",
              "      <div>\n",
              "<style scoped>\n",
              "    .dataframe tbody tr th:only-of-type {\n",
              "        vertical-align: middle;\n",
              "    }\n",
              "\n",
              "    .dataframe tbody tr th {\n",
              "        vertical-align: top;\n",
              "    }\n",
              "\n",
              "    .dataframe thead th {\n",
              "        text-align: right;\n",
              "    }\n",
              "</style>\n",
              "<table border=\"1\" class=\"dataframe\">\n",
              "  <thead>\n",
              "    <tr style=\"text-align: right;\">\n",
              "      <th></th>\n",
              "      <th>Model</th>\n",
              "      <th>train_test_split</th>\n",
              "      <th>kfold_5</th>\n",
              "    </tr>\n",
              "  </thead>\n",
              "  <tbody>\n",
              "    <tr>\n",
              "      <th>0</th>\n",
              "      <td>XGBoost</td>\n",
              "      <td>99.952</td>\n",
              "      <td>99.949</td>\n",
              "    </tr>\n",
              "    <tr>\n",
              "      <th>1</th>\n",
              "      <td>Random Forest</td>\n",
              "      <td>99.952</td>\n",
              "      <td>99.951</td>\n",
              "    </tr>\n",
              "    <tr>\n",
              "      <th>2</th>\n",
              "      <td>Logistic Regression</td>\n",
              "      <td>99.918</td>\n",
              "      <td>99.918</td>\n",
              "    </tr>\n",
              "    <tr>\n",
              "      <th>3</th>\n",
              "      <td>KNN</td>\n",
              "      <td>99.946</td>\n",
              "      <td>99.945</td>\n",
              "    </tr>\n",
              "    <tr>\n",
              "      <th>4</th>\n",
              "      <td>Naive Bayes</td>\n",
              "      <td>97.737</td>\n",
              "      <td>97.765</td>\n",
              "    </tr>\n",
              "  </tbody>\n",
              "</table>\n",
              "</div>\n",
              "      <button class=\"colab-df-convert\" onclick=\"convertToInteractive('df-89810da6-5d34-435d-88c9-563610d25755')\"\n",
              "              title=\"Convert this dataframe to an interactive table.\"\n",
              "              style=\"display:none;\">\n",
              "        \n",
              "  <svg xmlns=\"http://www.w3.org/2000/svg\" height=\"24px\"viewBox=\"0 0 24 24\"\n",
              "       width=\"24px\">\n",
              "    <path d=\"M0 0h24v24H0V0z\" fill=\"none\"/>\n",
              "    <path d=\"M18.56 5.44l.94 2.06.94-2.06 2.06-.94-2.06-.94-.94-2.06-.94 2.06-2.06.94zm-11 1L8.5 8.5l.94-2.06 2.06-.94-2.06-.94L8.5 2.5l-.94 2.06-2.06.94zm10 10l.94 2.06.94-2.06 2.06-.94-2.06-.94-.94-2.06-.94 2.06-2.06.94z\"/><path d=\"M17.41 7.96l-1.37-1.37c-.4-.4-.92-.59-1.43-.59-.52 0-1.04.2-1.43.59L10.3 9.45l-7.72 7.72c-.78.78-.78 2.05 0 2.83L4 21.41c.39.39.9.59 1.41.59.51 0 1.02-.2 1.41-.59l7.78-7.78 2.81-2.81c.8-.78.8-2.07 0-2.86zM5.41 20L4 18.59l7.72-7.72 1.47 1.35L5.41 20z\"/>\n",
              "  </svg>\n",
              "      </button>\n",
              "      \n",
              "  <style>\n",
              "    .colab-df-container {\n",
              "      display:flex;\n",
              "      flex-wrap:wrap;\n",
              "      gap: 12px;\n",
              "    }\n",
              "\n",
              "    .colab-df-convert {\n",
              "      background-color: #E8F0FE;\n",
              "      border: none;\n",
              "      border-radius: 50%;\n",
              "      cursor: pointer;\n",
              "      display: none;\n",
              "      fill: #1967D2;\n",
              "      height: 32px;\n",
              "      padding: 0 0 0 0;\n",
              "      width: 32px;\n",
              "    }\n",
              "\n",
              "    .colab-df-convert:hover {\n",
              "      background-color: #E2EBFA;\n",
              "      box-shadow: 0px 1px 2px rgba(60, 64, 67, 0.3), 0px 1px 3px 1px rgba(60, 64, 67, 0.15);\n",
              "      fill: #174EA6;\n",
              "    }\n",
              "\n",
              "    [theme=dark] .colab-df-convert {\n",
              "      background-color: #3B4455;\n",
              "      fill: #D2E3FC;\n",
              "    }\n",
              "\n",
              "    [theme=dark] .colab-df-convert:hover {\n",
              "      background-color: #434B5C;\n",
              "      box-shadow: 0px 1px 3px 1px rgba(0, 0, 0, 0.15);\n",
              "      filter: drop-shadow(0px 1px 2px rgba(0, 0, 0, 0.3));\n",
              "      fill: #FFFFFF;\n",
              "    }\n",
              "  </style>\n",
              "\n",
              "      <script>\n",
              "        const buttonEl =\n",
              "          document.querySelector('#df-89810da6-5d34-435d-88c9-563610d25755 button.colab-df-convert');\n",
              "        buttonEl.style.display =\n",
              "          google.colab.kernel.accessAllowed ? 'block' : 'none';\n",
              "\n",
              "        async function convertToInteractive(key) {\n",
              "          const element = document.querySelector('#df-89810da6-5d34-435d-88c9-563610d25755');\n",
              "          const dataTable =\n",
              "            await google.colab.kernel.invokeFunction('convertToInteractive',\n",
              "                                                     [key], {});\n",
              "          if (!dataTable) return;\n",
              "\n",
              "          const docLinkHtml = 'Like what you see? Visit the ' +\n",
              "            '<a target=\"_blank\" href=https://colab.research.google.com/notebooks/data_table.ipynb>data table notebook</a>'\n",
              "            + ' to learn more about interactive tables.';\n",
              "          element.innerHTML = '';\n",
              "          dataTable['output_type'] = 'display_data';\n",
              "          await google.colab.output.renderOutput(dataTable, element);\n",
              "          const docLink = document.createElement('div');\n",
              "          docLink.innerHTML = docLinkHtml;\n",
              "          element.appendChild(docLink);\n",
              "        }\n",
              "      </script>\n",
              "    </div>\n",
              "  </div>\n",
              "  "
            ]
          },
          "metadata": {},
          "execution_count": 176
        }
      ]
    },
    {
      "cell_type": "code",
      "source": [
        "from sklearn.model_selection import GridSearchCV, cross_val_score, StratifiedKFold, learning_curve"
      ],
      "metadata": {
        "id": "qPY2GbLfbKOL"
      },
      "execution_count": 177,
      "outputs": []
    },
    {
      "cell_type": "markdown",
      "source": [
        "### Stratified K Fold"
      ],
      "metadata": {
        "id": "aRqSSQY1dtaD"
      }
    },
    {
      "cell_type": "markdown",
      "source": [
        "This cross-validation object returns stratified folds and is a variant of K-Fold. The folds are made\n",
        "by keeping the percentage of samples in each class. I divided the data into five stratified folds. The\n",
        "four folds are then used to fit the model, and the fifth fold is used to test it. Repeat until each fold\n",
        "has been used as a test set. Then add together all the results and calculate the average. That will\n",
        "be the model’s metric of success."
      ],
      "metadata": {
        "id": "ETkD4_7Gds0d"
      }
    },
    {
      "cell_type": "code",
      "source": [
        "Stratifiedkfold = StratifiedKFold(n_splits= 5)"
      ],
      "metadata": {
        "id": "Be2clv8QbPBC"
      },
      "execution_count": 178,
      "outputs": []
    },
    {
      "cell_type": "code",
      "source": [
        "# Modeling step Test differents algorithms\n",
        "classifiers2 = []\n",
        "classifiers2.append(XGBClassifier())\n",
        "classifiers2.append(RandomForestClassifier())\n",
        "classifiers2.append(LogisticRegression())\n",
        "classifiers2.append(KNeighborsClassifier())\n",
        "classifiers2.append(GaussianNB())\n",
        "accuracy_results2 = []\n",
        "for classifier in classifiers2 :\n",
        "  accuracy_results2.append(cross_val_score(classifier, X_train,y_train, scoring = \"accuracy\", cv = Stratifiedkfold))\n",
        "accuracy_means2 = []\n",
        "for accuracy_result in accuracy_results2:\n",
        "  accuracy_means2.append(accuracy_result.mean()*100)\n",
        "accuracy_means2\n",
        "eval_frame['Stratifiedkfold_5']=accuracy_means2\n",
        "eval_frame"
      ],
      "metadata": {
        "colab": {
          "base_uri": "https://localhost:8080/",
          "height": 293
        },
        "id": "NPTgu7DFbRpp",
        "outputId": "7674681e-b57c-4736-8f0a-f19d6c60a74f"
      },
      "execution_count": 179,
      "outputs": [
        {
          "output_type": "execute_result",
          "data": {
            "text/plain": [
              "[99.95234846812386,\n",
              " 99.9533516406565,\n",
              " 99.91974475067892,\n",
              " 99.94382129402506,\n",
              " 97.7653944683278]"
            ]
          },
          "metadata": {},
          "execution_count": 179
        },
        {
          "output_type": "execute_result",
          "data": {
            "text/plain": [
              "                 Model  train_test_split   kfold_5  Stratifiedkfold_5\n",
              "0              XGBoost            99.952    99.949             99.952\n",
              "1        Random Forest            99.952    99.951             99.953\n",
              "2  Logistic Regression            99.918    99.918             99.920\n",
              "3                  KNN            99.946    99.945             99.944\n",
              "4          Naive Bayes            97.737    97.765             97.765"
            ],
            "text/html": [
              "\n",
              "  <div id=\"df-55e1933b-3205-4096-80f0-b8f2bb4ec2ab\">\n",
              "    <div class=\"colab-df-container\">\n",
              "      <div>\n",
              "<style scoped>\n",
              "    .dataframe tbody tr th:only-of-type {\n",
              "        vertical-align: middle;\n",
              "    }\n",
              "\n",
              "    .dataframe tbody tr th {\n",
              "        vertical-align: top;\n",
              "    }\n",
              "\n",
              "    .dataframe thead th {\n",
              "        text-align: right;\n",
              "    }\n",
              "</style>\n",
              "<table border=\"1\" class=\"dataframe\">\n",
              "  <thead>\n",
              "    <tr style=\"text-align: right;\">\n",
              "      <th></th>\n",
              "      <th>Model</th>\n",
              "      <th>train_test_split</th>\n",
              "      <th>kfold_5</th>\n",
              "      <th>Stratifiedkfold_5</th>\n",
              "    </tr>\n",
              "  </thead>\n",
              "  <tbody>\n",
              "    <tr>\n",
              "      <th>0</th>\n",
              "      <td>XGBoost</td>\n",
              "      <td>99.952</td>\n",
              "      <td>99.949</td>\n",
              "      <td>99.952</td>\n",
              "    </tr>\n",
              "    <tr>\n",
              "      <th>1</th>\n",
              "      <td>Random Forest</td>\n",
              "      <td>99.952</td>\n",
              "      <td>99.951</td>\n",
              "      <td>99.953</td>\n",
              "    </tr>\n",
              "    <tr>\n",
              "      <th>2</th>\n",
              "      <td>Logistic Regression</td>\n",
              "      <td>99.918</td>\n",
              "      <td>99.918</td>\n",
              "      <td>99.920</td>\n",
              "    </tr>\n",
              "    <tr>\n",
              "      <th>3</th>\n",
              "      <td>KNN</td>\n",
              "      <td>99.946</td>\n",
              "      <td>99.945</td>\n",
              "      <td>99.944</td>\n",
              "    </tr>\n",
              "    <tr>\n",
              "      <th>4</th>\n",
              "      <td>Naive Bayes</td>\n",
              "      <td>97.737</td>\n",
              "      <td>97.765</td>\n",
              "      <td>97.765</td>\n",
              "    </tr>\n",
              "  </tbody>\n",
              "</table>\n",
              "</div>\n",
              "      <button class=\"colab-df-convert\" onclick=\"convertToInteractive('df-55e1933b-3205-4096-80f0-b8f2bb4ec2ab')\"\n",
              "              title=\"Convert this dataframe to an interactive table.\"\n",
              "              style=\"display:none;\">\n",
              "        \n",
              "  <svg xmlns=\"http://www.w3.org/2000/svg\" height=\"24px\"viewBox=\"0 0 24 24\"\n",
              "       width=\"24px\">\n",
              "    <path d=\"M0 0h24v24H0V0z\" fill=\"none\"/>\n",
              "    <path d=\"M18.56 5.44l.94 2.06.94-2.06 2.06-.94-2.06-.94-.94-2.06-.94 2.06-2.06.94zm-11 1L8.5 8.5l.94-2.06 2.06-.94-2.06-.94L8.5 2.5l-.94 2.06-2.06.94zm10 10l.94 2.06.94-2.06 2.06-.94-2.06-.94-.94-2.06-.94 2.06-2.06.94z\"/><path d=\"M17.41 7.96l-1.37-1.37c-.4-.4-.92-.59-1.43-.59-.52 0-1.04.2-1.43.59L10.3 9.45l-7.72 7.72c-.78.78-.78 2.05 0 2.83L4 21.41c.39.39.9.59 1.41.59.51 0 1.02-.2 1.41-.59l7.78-7.78 2.81-2.81c.8-.78.8-2.07 0-2.86zM5.41 20L4 18.59l7.72-7.72 1.47 1.35L5.41 20z\"/>\n",
              "  </svg>\n",
              "      </button>\n",
              "      \n",
              "  <style>\n",
              "    .colab-df-container {\n",
              "      display:flex;\n",
              "      flex-wrap:wrap;\n",
              "      gap: 12px;\n",
              "    }\n",
              "\n",
              "    .colab-df-convert {\n",
              "      background-color: #E8F0FE;\n",
              "      border: none;\n",
              "      border-radius: 50%;\n",
              "      cursor: pointer;\n",
              "      display: none;\n",
              "      fill: #1967D2;\n",
              "      height: 32px;\n",
              "      padding: 0 0 0 0;\n",
              "      width: 32px;\n",
              "    }\n",
              "\n",
              "    .colab-df-convert:hover {\n",
              "      background-color: #E2EBFA;\n",
              "      box-shadow: 0px 1px 2px rgba(60, 64, 67, 0.3), 0px 1px 3px 1px rgba(60, 64, 67, 0.15);\n",
              "      fill: #174EA6;\n",
              "    }\n",
              "\n",
              "    [theme=dark] .colab-df-convert {\n",
              "      background-color: #3B4455;\n",
              "      fill: #D2E3FC;\n",
              "    }\n",
              "\n",
              "    [theme=dark] .colab-df-convert:hover {\n",
              "      background-color: #434B5C;\n",
              "      box-shadow: 0px 1px 3px 1px rgba(0, 0, 0, 0.15);\n",
              "      filter: drop-shadow(0px 1px 2px rgba(0, 0, 0, 0.3));\n",
              "      fill: #FFFFFF;\n",
              "    }\n",
              "  </style>\n",
              "\n",
              "      <script>\n",
              "        const buttonEl =\n",
              "          document.querySelector('#df-55e1933b-3205-4096-80f0-b8f2bb4ec2ab button.colab-df-convert');\n",
              "        buttonEl.style.display =\n",
              "          google.colab.kernel.accessAllowed ? 'block' : 'none';\n",
              "\n",
              "        async function convertToInteractive(key) {\n",
              "          const element = document.querySelector('#df-55e1933b-3205-4096-80f0-b8f2bb4ec2ab');\n",
              "          const dataTable =\n",
              "            await google.colab.kernel.invokeFunction('convertToInteractive',\n",
              "                                                     [key], {});\n",
              "          if (!dataTable) return;\n",
              "\n",
              "          const docLinkHtml = 'Like what you see? Visit the ' +\n",
              "            '<a target=\"_blank\" href=https://colab.research.google.com/notebooks/data_table.ipynb>data table notebook</a>'\n",
              "            + ' to learn more about interactive tables.';\n",
              "          element.innerHTML = '';\n",
              "          dataTable['output_type'] = 'display_data';\n",
              "          await google.colab.output.renderOutput(dataTable, element);\n",
              "          const docLink = document.createElement('div');\n",
              "          docLink.innerHTML = docLinkHtml;\n",
              "          element.appendChild(docLink);\n",
              "        }\n",
              "      </script>\n",
              "    </div>\n",
              "  </div>\n",
              "  "
            ]
          },
          "metadata": {},
          "execution_count": 179
        }
      ]
    },
    {
      "cell_type": "markdown",
      "source": [
        "### Repeated Random Test-Train Splits"
      ],
      "metadata": {
        "id": "rGuPR2OWdf62"
      }
    },
    {
      "cell_type": "markdown",
      "source": [
        "This strategy combines the k-fold cross-validation method with typical train-test splits. I create\n",
        "random divides of the data in the training-test set, similar to the cross-validation approach, and\n",
        "then repeat the process of splitting and testing the algorithm many times. I divided the data into\n",
        "five Repeated Random Test-Train Splits."
      ],
      "metadata": {
        "id": "3d5NoBYDdbcS"
      }
    },
    {
      "cell_type": "code",
      "source": [
        "from sklearn.model_selection import ShuffleSplit"
      ],
      "metadata": {
        "id": "oSnMUQO_l6z1"
      },
      "execution_count": 180,
      "outputs": []
    },
    {
      "cell_type": "code",
      "source": [
        "kfold = ShuffleSplit(n_splits=5,test_size=0.3)\n",
        "# Modeling step Test differents algorithms\n",
        "classifiers3 = []\n",
        "classifiers3.append(XGBClassifier())\n",
        "classifiers3.append(RandomForestClassifier())\n",
        "classifiers3.append(LogisticRegression())\n",
        "classifiers3.append(KNeighborsClassifier())\n",
        "classifiers3.append(GaussianNB())\n",
        "accuracy_results3 = []\n",
        "for classifier in classifiers3 :\n",
        "  accuracy_results3.append(cross_val_score(classifier, X_train,y_train, scoring = \"accuracy\", cv = kfold))\n",
        "accuracy_means3 = []\n",
        "for accuracy_result in accuracy_results3:\n",
        "  accuracy_means3.append(accuracy_result.mean()*100)\n",
        "accuracy_means3\n",
        "eval_frame['RRTestTrainSplits_5']=accuracy_means3\n",
        "eval_frame"
      ],
      "metadata": {
        "colab": {
          "base_uri": "https://localhost:8080/",
          "height": 293
        },
        "id": "n8IisbUJl9XX",
        "outputId": "37ab1189-ed73-4aeb-de62-07afd0070f4a"
      },
      "execution_count": 181,
      "outputs": [
        {
          "output_type": "execute_result",
          "data": {
            "text/plain": [
              "[99.9505099481692,\n",
              " 99.9541882628323,\n",
              " 99.91606754723291,\n",
              " 99.9391406119378,\n",
              " 97.81039959872932]"
            ]
          },
          "metadata": {},
          "execution_count": 181
        },
        {
          "output_type": "execute_result",
          "data": {
            "text/plain": [
              "                 Model  train_test_split   kfold_5  Stratifiedkfold_5  \\\n",
              "0              XGBoost            99.952    99.949             99.952   \n",
              "1        Random Forest            99.952    99.951             99.953   \n",
              "2  Logistic Regression            99.918    99.918             99.920   \n",
              "3                  KNN            99.946    99.945             99.944   \n",
              "4          Naive Bayes            97.737    97.765             97.765   \n",
              "\n",
              "   RRTestTrainSplits_5  \n",
              "0               99.951  \n",
              "1               99.954  \n",
              "2               99.916  \n",
              "3               99.939  \n",
              "4               97.810  "
            ],
            "text/html": [
              "\n",
              "  <div id=\"df-f3e79fab-22ce-4bc4-afb6-a0bacaacaedd\">\n",
              "    <div class=\"colab-df-container\">\n",
              "      <div>\n",
              "<style scoped>\n",
              "    .dataframe tbody tr th:only-of-type {\n",
              "        vertical-align: middle;\n",
              "    }\n",
              "\n",
              "    .dataframe tbody tr th {\n",
              "        vertical-align: top;\n",
              "    }\n",
              "\n",
              "    .dataframe thead th {\n",
              "        text-align: right;\n",
              "    }\n",
              "</style>\n",
              "<table border=\"1\" class=\"dataframe\">\n",
              "  <thead>\n",
              "    <tr style=\"text-align: right;\">\n",
              "      <th></th>\n",
              "      <th>Model</th>\n",
              "      <th>train_test_split</th>\n",
              "      <th>kfold_5</th>\n",
              "      <th>Stratifiedkfold_5</th>\n",
              "      <th>RRTestTrainSplits_5</th>\n",
              "    </tr>\n",
              "  </thead>\n",
              "  <tbody>\n",
              "    <tr>\n",
              "      <th>0</th>\n",
              "      <td>XGBoost</td>\n",
              "      <td>99.952</td>\n",
              "      <td>99.949</td>\n",
              "      <td>99.952</td>\n",
              "      <td>99.951</td>\n",
              "    </tr>\n",
              "    <tr>\n",
              "      <th>1</th>\n",
              "      <td>Random Forest</td>\n",
              "      <td>99.952</td>\n",
              "      <td>99.951</td>\n",
              "      <td>99.953</td>\n",
              "      <td>99.954</td>\n",
              "    </tr>\n",
              "    <tr>\n",
              "      <th>2</th>\n",
              "      <td>Logistic Regression</td>\n",
              "      <td>99.918</td>\n",
              "      <td>99.918</td>\n",
              "      <td>99.920</td>\n",
              "      <td>99.916</td>\n",
              "    </tr>\n",
              "    <tr>\n",
              "      <th>3</th>\n",
              "      <td>KNN</td>\n",
              "      <td>99.946</td>\n",
              "      <td>99.945</td>\n",
              "      <td>99.944</td>\n",
              "      <td>99.939</td>\n",
              "    </tr>\n",
              "    <tr>\n",
              "      <th>4</th>\n",
              "      <td>Naive Bayes</td>\n",
              "      <td>97.737</td>\n",
              "      <td>97.765</td>\n",
              "      <td>97.765</td>\n",
              "      <td>97.810</td>\n",
              "    </tr>\n",
              "  </tbody>\n",
              "</table>\n",
              "</div>\n",
              "      <button class=\"colab-df-convert\" onclick=\"convertToInteractive('df-f3e79fab-22ce-4bc4-afb6-a0bacaacaedd')\"\n",
              "              title=\"Convert this dataframe to an interactive table.\"\n",
              "              style=\"display:none;\">\n",
              "        \n",
              "  <svg xmlns=\"http://www.w3.org/2000/svg\" height=\"24px\"viewBox=\"0 0 24 24\"\n",
              "       width=\"24px\">\n",
              "    <path d=\"M0 0h24v24H0V0z\" fill=\"none\"/>\n",
              "    <path d=\"M18.56 5.44l.94 2.06.94-2.06 2.06-.94-2.06-.94-.94-2.06-.94 2.06-2.06.94zm-11 1L8.5 8.5l.94-2.06 2.06-.94-2.06-.94L8.5 2.5l-.94 2.06-2.06.94zm10 10l.94 2.06.94-2.06 2.06-.94-2.06-.94-.94-2.06-.94 2.06-2.06.94z\"/><path d=\"M17.41 7.96l-1.37-1.37c-.4-.4-.92-.59-1.43-.59-.52 0-1.04.2-1.43.59L10.3 9.45l-7.72 7.72c-.78.78-.78 2.05 0 2.83L4 21.41c.39.39.9.59 1.41.59.51 0 1.02-.2 1.41-.59l7.78-7.78 2.81-2.81c.8-.78.8-2.07 0-2.86zM5.41 20L4 18.59l7.72-7.72 1.47 1.35L5.41 20z\"/>\n",
              "  </svg>\n",
              "      </button>\n",
              "      \n",
              "  <style>\n",
              "    .colab-df-container {\n",
              "      display:flex;\n",
              "      flex-wrap:wrap;\n",
              "      gap: 12px;\n",
              "    }\n",
              "\n",
              "    .colab-df-convert {\n",
              "      background-color: #E8F0FE;\n",
              "      border: none;\n",
              "      border-radius: 50%;\n",
              "      cursor: pointer;\n",
              "      display: none;\n",
              "      fill: #1967D2;\n",
              "      height: 32px;\n",
              "      padding: 0 0 0 0;\n",
              "      width: 32px;\n",
              "    }\n",
              "\n",
              "    .colab-df-convert:hover {\n",
              "      background-color: #E2EBFA;\n",
              "      box-shadow: 0px 1px 2px rgba(60, 64, 67, 0.3), 0px 1px 3px 1px rgba(60, 64, 67, 0.15);\n",
              "      fill: #174EA6;\n",
              "    }\n",
              "\n",
              "    [theme=dark] .colab-df-convert {\n",
              "      background-color: #3B4455;\n",
              "      fill: #D2E3FC;\n",
              "    }\n",
              "\n",
              "    [theme=dark] .colab-df-convert:hover {\n",
              "      background-color: #434B5C;\n",
              "      box-shadow: 0px 1px 3px 1px rgba(0, 0, 0, 0.15);\n",
              "      filter: drop-shadow(0px 1px 2px rgba(0, 0, 0, 0.3));\n",
              "      fill: #FFFFFF;\n",
              "    }\n",
              "  </style>\n",
              "\n",
              "      <script>\n",
              "        const buttonEl =\n",
              "          document.querySelector('#df-f3e79fab-22ce-4bc4-afb6-a0bacaacaedd button.colab-df-convert');\n",
              "        buttonEl.style.display =\n",
              "          google.colab.kernel.accessAllowed ? 'block' : 'none';\n",
              "\n",
              "        async function convertToInteractive(key) {\n",
              "          const element = document.querySelector('#df-f3e79fab-22ce-4bc4-afb6-a0bacaacaedd');\n",
              "          const dataTable =\n",
              "            await google.colab.kernel.invokeFunction('convertToInteractive',\n",
              "                                                     [key], {});\n",
              "          if (!dataTable) return;\n",
              "\n",
              "          const docLinkHtml = 'Like what you see? Visit the ' +\n",
              "            '<a target=\"_blank\" href=https://colab.research.google.com/notebooks/data_table.ipynb>data table notebook</a>'\n",
              "            + ' to learn more about interactive tables.';\n",
              "          element.innerHTML = '';\n",
              "          dataTable['output_type'] = 'display_data';\n",
              "          await google.colab.output.renderOutput(dataTable, element);\n",
              "          const docLink = document.createElement('div');\n",
              "          docLink.innerHTML = docLinkHtml;\n",
              "          element.appendChild(docLink);\n",
              "        }\n",
              "      </script>\n",
              "    </div>\n",
              "  </div>\n",
              "  "
            ]
          },
          "metadata": {},
          "execution_count": 181
        }
      ]
    },
    {
      "cell_type": "markdown",
      "source": [
        "When I employed a train-test-split cross validation method, the best model was shown as a random forest in the table above."
      ],
      "metadata": {
        "id": "hwoUwdyZdHg0"
      }
    },
    {
      "cell_type": "code",
      "source": [
        "# Confusion Matrix corresponding to XGBoost Classifier model\n",
        "cf_matrix_XGB = confusion_matrix(y_test,pred_xg)\n",
        "cf_matrix_XGB"
      ],
      "metadata": {
        "colab": {
          "base_uri": "https://localhost:8080/"
        },
        "id": "e7DnrHA0oMxs",
        "outputId": "54eb3ff1-e081-4084-8522-48b54210dfec"
      },
      "execution_count": 183,
      "outputs": [
        {
          "output_type": "execute_result",
          "data": {
            "text/plain": [
              "array([[85281,    10],\n",
              "       [   31,   121]])"
            ]
          },
          "metadata": {},
          "execution_count": 183
        }
      ]
    },
    {
      "cell_type": "code",
      "source": [
        "ax = sns.heatmap(cf_matrix_XGB/np.sum(cf_matrix_XGB), annot=True, fmt='.2%',cmap='Blues')\n",
        "ax.set_title('Confusion Matrix corresponding to XGBoost Classifier algorithm');\n",
        "ax.set_xlabel('Predicted Values')\n",
        "ax.set_ylabel('Actual Values');\n",
        "## Ticket labels\n",
        "ax.xaxis.set_ticklabels(['0','1'])\n",
        "ax.yaxis.set_ticklabels(['0','1'])\n",
        "## Display the visualization of the Confusion Matrix.\n",
        "plt.show()\n",
        "print(\"accuracy of XGB :\", xg_acc)"
      ],
      "metadata": {
        "colab": {
          "base_uri": "https://localhost:8080/",
          "height": 367
        },
        "id": "lHO_LFg0oUAP",
        "outputId": "cf9b16b0-15c1-4561-9f70-9a9031e840c7"
      },
      "execution_count": 184,
      "outputs": [
        {
          "output_type": "execute_result",
          "data": {
            "text/plain": [
              "Text(0.5, 1.0, 'Confusion Matrix corresponding to XGBoost Classifier algorithm')"
            ]
          },
          "metadata": {},
          "execution_count": 184
        },
        {
          "output_type": "execute_result",
          "data": {
            "text/plain": [
              "Text(0.5, 15.0, 'Predicted Values')"
            ]
          },
          "metadata": {},
          "execution_count": 184
        },
        {
          "output_type": "execute_result",
          "data": {
            "text/plain": [
              "Text(33.0, 0.5, 'Actual Values')"
            ]
          },
          "metadata": {},
          "execution_count": 184
        },
        {
          "output_type": "execute_result",
          "data": {
            "text/plain": [
              "[Text(0.5, 0, '0'), Text(1.5, 0, '1')]"
            ]
          },
          "metadata": {},
          "execution_count": 184
        },
        {
          "output_type": "execute_result",
          "data": {
            "text/plain": [
              "[Text(0, 0.5, '0'), Text(0, 1.5, '1')]"
            ]
          },
          "metadata": {},
          "execution_count": 184
        },
        {
          "output_type": "display_data",
          "data": {
            "text/plain": [
              "<Figure size 432x288 with 2 Axes>"
            ],
            "image/png": "[encoded data removed]"
          },
          "metadata": {
            "needs_background": "light"
          }
        },
        {
          "output_type": "stream",
          "name": "stdout",
          "text": [
            "accuracy of XGB : 99.95201479348805\n"
          ]
        }
      ]
    },
    {
      "cell_type": "markdown",
      "source": [
        "When the target variable’s actual and anticipated values are both 0, this quadrant contains 99.81% of observations; when the target variable’s actual and anticipated values are both 1, 0.14% of observations fall into this quadrant.\n",
        "This model is correct 99.95% of the time and erroneous 0.05% of the time, according to the data."
      ],
      "metadata": {
        "id": "l_tHv3TucQ_4"
      }
    },
    {
      "cell_type": "code",
      "source": [
        "XGB.fit(X_train,y_train)\n",
        "metrics.plot_roc_curve(XGB, X_test, y_test)\n",
        "plt.plot([0, 1], [0, 1],'g--')\n",
        "plt.xlim([0.0, 1.0])\n",
        "plt.ylim([0.0, 1.0])\n",
        "plt.xlabel('False Positive Rate')\n",
        "plt.ylabel('True Positive Rate')\n",
        "plt.title('ROC Curve\\n\\n')\n",
        "plt.show()"
      ],
      "metadata": {
        "colab": {
          "base_uri": "https://localhost:8080/",
          "height": 397
        },
        "id": "Nsc9i94ioXC9",
        "outputId": "9da5eba4-b3d2-4091-8997-e07464bf2639"
      },
      "execution_count": 185,
      "outputs": [
        {
          "output_type": "execute_result",
          "data": {
            "text/plain": [
              "XGBClassifier()"
            ]
          },
          "metadata": {},
          "execution_count": 185
        },
        {
          "output_type": "execute_result",
          "data": {
            "text/plain": [
              "<sklearn.metrics._plot.roc_curve.RocCurveDisplay at 0x7f5c56c8cdd0>"
            ]
          },
          "metadata": {},
          "execution_count": 185
        },
        {
          "output_type": "execute_result",
          "data": {
            "text/plain": [
              "[<matplotlib.lines.Line2D at 0x7f5c56bc98d0>]"
            ]
          },
          "metadata": {},
          "execution_count": 185
        },
        {
          "output_type": "execute_result",
          "data": {
            "text/plain": [
              "(0.0, 1.0)"
            ]
          },
          "metadata": {},
          "execution_count": 185
        },
        {
          "output_type": "execute_result",
          "data": {
            "text/plain": [
              "(0.0, 1.0)"
            ]
          },
          "metadata": {},
          "execution_count": 185
        },
        {
          "output_type": "execute_result",
          "data": {
            "text/plain": [
              "Text(0.5, 0, 'False Positive Rate')"
            ]
          },
          "metadata": {},
          "execution_count": 185
        },
        {
          "output_type": "execute_result",
          "data": {
            "text/plain": [
              "Text(0, 0.5, 'True Positive Rate')"
            ]
          },
          "metadata": {},
          "execution_count": 185
        },
        {
          "output_type": "execute_result",
          "data": {
            "text/plain": [
              "Text(0.5, 1.0, 'ROC Curve\\n\\n')"
            ]
          },
          "metadata": {},
          "execution_count": 185
        },
        {
          "output_type": "display_data",
          "data": {
            "text/plain": [
              "<Figure size 432x288 with 1 Axes>"
            ],
            "image/png": "[encoded data removed]"
          },
          "metadata": {
            "needs_background": "light"
          }
        }
      ]
    },
    {
      "cell_type": "markdown",
      "source": [
        "From the above graph ,area under the curve score is 0.98. It shows that it is a perfect classifier."
      ],
      "metadata": {
        "id": "lunL1CoScHCa"
      }
    },
    {
      "cell_type": "code",
      "source": [
        "print(classification_report(y_test,pred_xg))"
      ],
      "metadata": {
        "colab": {
          "base_uri": "https://localhost:8080/"
        },
        "id": "uuK9rqLRoZYQ",
        "outputId": "47be4c6f-6af2-4330-bd71-856f9b9203f7"
      },
      "execution_count": 186,
      "outputs": [
        {
          "output_type": "stream",
          "name": "stdout",
          "text": [
            "              precision    recall  f1-score   support\n",
            "\n",
            "           0       1.00      1.00      1.00     85291\n",
            "           1       0.92      0.80      0.86       152\n",
            "\n",
            "    accuracy                           1.00     85443\n",
            "   macro avg       0.96      0.90      0.93     85443\n",
            "weighted avg       1.00      1.00      1.00     85443\n",
            "\n"
          ]
        }
      ]
    },
    {
      "cell_type": "markdown",
      "source": [
        "Terms explanation:\n",
        "\n",
        "True Positives: Correctly Classified Fraud Transactions\n",
        "\n",
        "False Positives: Incorrectly Classified Fraud Transactions\n",
        "\n",
        "True Negative: Correctly Classified Non-Fraud Transactions\n",
        "\n",
        "False Negative: Incorrectly Classified Non-Fraud Transactions\n",
        "\n",
        "Precision: True Positives/(True Positives + False Positives)\n",
        "\n",
        "Recall: True Positives/(True Positives + False Negatives)\n",
        "\n",
        "Precision as the name says, says how precise (how sure) is our model in detecting fraud transactions while recall is the amount of fraud cases our model is able to detect.\n",
        "\n",
        "Precision/Recall Tradeoff: The more precise (selective) our model is, the less cases it will detect. \n",
        "\n",
        "Therefore, in this project, recall is more important than precision because we want to detect more fraud cases correctly."
      ],
      "metadata": {
        "id": "jmk-fQ8zoex2"
      }
    },
    {
      "cell_type": "code",
      "source": [
        "#importannt Feature to get high accuracy in optimal model\n",
        "feature_imp = pd.Series(XGB.feature_importances_,index=X_train.columns).sort_values(ascending=False)\n",
        "feature_imp"
      ],
      "metadata": {
        "colab": {
          "base_uri": "https://localhost:8080/"
        },
        "id": "lWfyWMnwofSu",
        "outputId": "b1cb4fa2-fbe5-464c-a2e1-36df77197072"
      },
      "execution_count": 187,
      "outputs": [
        {
          "output_type": "execute_result",
          "data": {
            "text/plain": [
              "V17             0.286\n",
              "V14             0.090\n",
              "V10             0.054\n",
              "V27             0.041\n",
              "V7              0.032\n",
              "scaled_time     0.028\n",
              "V12             0.028\n",
              "V28             0.028\n",
              "V26             0.028\n",
              "V20             0.028\n",
              "V4              0.026\n",
              "V6              0.026\n",
              "V9              0.025\n",
              "V3              0.024\n",
              "V2              0.023\n",
              "V13             0.023\n",
              "V8              0.019\n",
              "V1              0.019\n",
              "V25             0.019\n",
              "V22             0.018\n",
              "V15             0.018\n",
              "V21             0.018\n",
              "V24             0.015\n",
              "V19             0.014\n",
              "V11             0.013\n",
              "V16             0.013\n",
              "scaled_amount   0.013\n",
              "V18             0.011\n",
              "V23             0.010\n",
              "V5              0.009\n",
              "dtype: float32"
            ]
          },
          "metadata": {},
          "execution_count": 187
        }
      ]
    },
    {
      "cell_type": "markdown",
      "source": [
        "Most Important feature is V17 according to XGBoost model."
      ],
      "metadata": {
        "id": "yP5rvP4too5I"
      }
    }
  ],
  "metadata": {
    "colab": {
      "collapsed_sections": [],
      "name": "XGBoost - Fraud detection.ipynb",
      "provenance": [],
      "toc_visible": true
    },
    "kernelspec": {
      "display_name": "Python 3",
      "name": "python3"
    },
    "language_info": {
      "name": "python"
    }
  },
  "nbformat": 4,
  "nbformat_minor": 0
}